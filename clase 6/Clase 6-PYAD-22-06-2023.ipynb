{
 "cells": [
  {
   "cell_type": "markdown",
   "id": "f1bcb602",
   "metadata": {},
   "source": [
    "# Analisis de Datos con Python - Clase 6\n",
    "\n",
    "[Material Complementario](https://1drv.ms/f/s!Anh5cvrOJtUTlPZtFvM6HLVpIRIbuw?e=yVNImT)"
   ]
  },
  {
   "cell_type": "markdown",
   "id": "a362a1af",
   "metadata": {},
   "source": [
    "![image](pandas.png)"
   ]
  },
  {
   "cell_type": "markdown",
   "id": "4b2b390c",
   "metadata": {},
   "source": [
    "# Modulo 4.- Pandas 2"
   ]
  },
  {
   "cell_type": "code",
   "execution_count": 1,
   "id": "99ca9842",
   "metadata": {},
   "outputs": [],
   "source": [
    "import pandas as pd\n",
    "import numpy as np"
   ]
  },
  {
   "cell_type": "code",
   "execution_count": null,
   "id": "a873f8b3",
   "metadata": {},
   "outputs": [],
   "source": [
    "data = pd.read_csv('titanic.csv')\n",
    "data"
   ]
  },
  {
   "cell_type": "markdown",
   "id": "b4fee81b",
   "metadata": {},
   "source": [
    "## 2.1. Indexing\n",
    "El hecho de utilizar etiquetas hace que Pandas ofrezca  una variedad de formas para manipular los datos.\n",
    "La indexación directa sobre una serie devuelve uno de  sus elementos y sobre un dataframe devuelve una de  sus columnas (cada una de ellas es una serie).       \n",
    "Hay que  usar como índice el elemento que se tenga como  etiqueta, similar a lo que sucede con diccionarios. Se  puede usar un rango en caso de las series."
   ]
  },
  {
   "cell_type": "code",
   "execution_count": null,
   "id": "2dbacce1",
   "metadata": {},
   "outputs": [],
   "source": [
    "serie = pd.Series([5, 7, 2, 9, 4, 1, 8], index = ['a', 'b', 'c', 'd', 'e', 'f', 'g'])\n",
    "serie"
   ]
  },
  {
   "cell_type": "code",
   "execution_count": null,
   "id": "471c88f9",
   "metadata": {},
   "outputs": [],
   "source": [
    "serie['d']"
   ]
  },
  {
   "cell_type": "code",
   "execution_count": null,
   "id": "d834f5a0",
   "metadata": {},
   "outputs": [],
   "source": [
    "serie1 = pd.Series([5, 7, 2, 9, 4, 1, 8])\n",
    "serie1"
   ]
  },
  {
   "cell_type": "code",
   "execution_count": null,
   "id": "52fa8f3a",
   "metadata": {},
   "outputs": [],
   "source": [
    "serie1[3]=100\n",
    "serie1"
   ]
  },
  {
   "cell_type": "code",
   "execution_count": null,
   "id": "6319f54d",
   "metadata": {},
   "outputs": [],
   "source": [
    "serie['b': 'e']"
   ]
  },
  {
   "cell_type": "code",
   "execution_count": null,
   "id": "85b304df",
   "metadata": {},
   "outputs": [],
   "source": [
    "# con corchete simple obtenemos una Serie de Pandas\n",
    "data['Age']\n",
    "type(data['Age'])"
   ]
  },
  {
   "cell_type": "code",
   "execution_count": null,
   "id": "175fd56a",
   "metadata": {},
   "outputs": [],
   "source": [
    "# con corchete doble obtenemos un Dataframe de Pandas\n",
    "data[['Age']]\n",
    "type(data[['Age']])"
   ]
  },
  {
   "cell_type": "code",
   "execution_count": null,
   "id": "4ebe7956",
   "metadata": {},
   "outputs": [],
   "source": [
    "data2 = data[['Survived',  'Name', 'Age']]\n",
    "data2"
   ]
  },
  {
   "cell_type": "code",
   "execution_count": null,
   "id": "4afb23ad",
   "metadata": {},
   "outputs": [],
   "source": [
    "type(data2)"
   ]
  },
  {
   "cell_type": "markdown",
   "id": "3cf4bc66",
   "metadata": {},
   "source": [
    "## 2.2. Label Indexing\n",
    "Pandas provee un método general muy versátil para  seleccionar elementos en base a las etiquetas. Esto se  hace a través del atributo  \"**.loc**.       \n",
    "Para seleccionar un  elemento se ponen las etiquetas que le correspondan.  Recordemos que las etiquetas pueden ser cualquier  objeto de python, incluso números. Cuando se usan  números con  loc, estos representan las etiquetas y no  las posiciones.\n",
    "También se pueden hacer slices con etiquetas. En este  caso el slice es inclusivo tanto con la primer etiqueta  como con la segunda. También se pueden poner listas  para seleccionar etiquetas especíﬁcas."
   ]
  },
  {
   "cell_type": "code",
   "execution_count": null,
   "id": "0c16e932",
   "metadata": {},
   "outputs": [],
   "source": [
    "data.loc[3, 'Name']"
   ]
  },
  {
   "cell_type": "code",
   "execution_count": null,
   "id": "4d295fa3",
   "metadata": {},
   "outputs": [],
   "source": [
    "data.iloc[3,3]"
   ]
  },
  {
   "cell_type": "code",
   "execution_count": null,
   "id": "dc81530b",
   "metadata": {},
   "outputs": [],
   "source": [
    "data.loc[25:30, 'PassengerId': 'Pclass']"
   ]
  },
  {
   "cell_type": "code",
   "execution_count": null,
   "id": "bcf14e67",
   "metadata": {},
   "outputs": [],
   "source": [
    "data.loc[[25,30], ['Survived', 'Age']]"
   ]
  },
  {
   "cell_type": "markdown",
   "id": "2d633396",
   "metadata": {},
   "source": [
    "## 2.3. Filtros\n",
    "También es posible seleccionar elementos según condiciones  de sus valores. La expresión condicional produce un arreglo de  booleanos y se devuelven los valores para los que el valor de  ese arreglo es verdadero. **data[“Age”] >=30** devuelve una  serie de booleanos y **data[data[“Age”] >= 30]** devuelve  todas las ﬁlas del dataframe para las cuales el valor de la edad  es mayor o igual a 30.\n",
    "También se pueden usar condiciones dentro de **loc** y de **iloc**,  para una o las dos dimensiones. Por ejemplo,  data.loc[data[\"Age\"] >= 30, [\"Name\", \"Sex\"]] selecciona  las ﬁlas de las columnas Name y Sex cuyas edades son mayores  o iguales a 30.\n"
   ]
  },
  {
   "cell_type": "code",
   "execution_count": null,
   "id": "48e988d7",
   "metadata": {},
   "outputs": [],
   "source": [
    "data['Age'] >=30"
   ]
  },
  {
   "cell_type": "code",
   "execution_count": null,
   "id": "d863fcdf",
   "metadata": {},
   "outputs": [],
   "source": [
    "data[data['Age'] >= 30]"
   ]
  },
  {
   "cell_type": "code",
   "execution_count": null,
   "id": "7b2ca411",
   "metadata": {},
   "outputs": [],
   "source": [
    "sobrevientes_titanic = data[data['Survived'] == 1]\n",
    "sobrevientes_titanic"
   ]
  },
  {
   "cell_type": "code",
   "execution_count": null,
   "id": "fe70b2a7",
   "metadata": {},
   "outputs": [],
   "source": [
    "sobrevientes_titanic.to_excel('Sobrevivientes.xlsx', sheet_name='titanic')"
   ]
  },
  {
   "cell_type": "markdown",
   "id": "fc0e6a99",
   "metadata": {},
   "source": [
    "# Modulo 4.- Pandas 3"
   ]
  },
  {
   "cell_type": "markdown",
   "id": "f2e7ef60",
   "metadata": {},
   "source": [
    "## 3.1. Indices\n",
    "Las etiquetas son una parte fundamental de las  estructuras de Pandas, muchas de las funcionalidades  dependen de ellas. Por lo tanto, es importante poder  manipular y modiﬁcarlas según sea necesario. Las  etiquetas están alojadas en una estructura llamada  Index. En un dataframe tenemos tenemos un Index  para las ﬁlas y otro para las columnas en los atributos  **index** y **columns**.\n",
    "Es posible modiﬁcar un index completamente  simplemente reasignándolo, por ejemplo, por una lista  que debe tener la misma cantidad de elementos."
   ]
  },
  {
   "cell_type": "code",
   "execution_count": null,
   "id": "eb100fab",
   "metadata": {},
   "outputs": [],
   "source": [
    "df = pd.DataFrame([[3, 6, 2], [6, 8, 5], [7, 0, 5], [4, 3, 8]])\n",
    "df"
   ]
  },
  {
   "cell_type": "code",
   "execution_count": null,
   "id": "f86244c5",
   "metadata": {},
   "outputs": [],
   "source": [
    "df.index = ['fila 1', 'fila 2', 'fila 3', 'fila 4']\n",
    "df"
   ]
  },
  {
   "cell_type": "code",
   "execution_count": null,
   "id": "6b7156d7",
   "metadata": {},
   "outputs": [],
   "source": [
    "df.columns = ['col 1', 'col 2', 'col 3']\n",
    "df"
   ]
  },
  {
   "cell_type": "markdown",
   "id": "c91c0367",
   "metadata": {},
   "source": [
    "Los objetos de tipo Index no soportan la asignación de ítems, no  se puede cambiar uno de sus elementos por asignación directa.  Esta modiﬁcación la podemos realizar de dos maneras:\n",
    "Una es modiﬁcando directamente el array de numpy que aloja  los datos del Index a través del atributo values.\n",
    "La otra forma es usando el método rename, que sirve para ﬁlas  y columnas. Se le puede pasar un diccionario con los nombres  de las etiquetas que queremos cambiar. También se puede  pasar una función a aplicar a todos los elementos del Index. Por  defecto, esta operación devuelve otro dataframe con los índices  modiﬁcados. Si queremos modiﬁcar los índices del dataframe  actual podemos usar el parámetro inplace = True.\n"
   ]
  },
  {
   "cell_type": "code",
   "execution_count": null,
   "id": "eb12fab7",
   "metadata": {},
   "outputs": [],
   "source": [
    "df.index[0] = 'FILA 1'"
   ]
  },
  {
   "cell_type": "code",
   "execution_count": null,
   "id": "acd567fb",
   "metadata": {},
   "outputs": [],
   "source": [
    "df.index.values[0] = 'FILA 1'\n",
    "df"
   ]
  },
  {
   "cell_type": "code",
   "execution_count": null,
   "id": "ec46bae1",
   "metadata": {},
   "outputs": [],
   "source": [
    "df.rename(index = {'fila 2' : 'FILA 2'}, inplace = True)\n",
    "df"
   ]
  },
  {
   "cell_type": "code",
   "execution_count": null,
   "id": "37a7d161",
   "metadata": {},
   "outputs": [],
   "source": [
    "df.rename(index = str.upper, \n",
    "          columns = lambda x: x.replace('col', 'Columna'),\n",
    "          inplace = True)\n",
    "df"
   ]
  },
  {
   "cell_type": "markdown",
   "id": "e85e7ab0",
   "metadata": {},
   "source": [
    "## 3.2. reset_index\n",
    "\n",
    "Para convertir el Index en una columna se usa  el método reset_index. Éste transforma el  Index en un columna y resetea el índice a un  rango de números.\n"
   ]
  },
  {
   "cell_type": "code",
   "execution_count": null,
   "id": "5d2596f3",
   "metadata": {},
   "outputs": [],
   "source": [
    "df.reset_index(inplace = True)\n",
    "df\n"
   ]
  },
  {
   "cell_type": "markdown",
   "id": "75e9c0a8",
   "metadata": {},
   "source": [
    "Si solamente queremos resetear el Index y  descartar los valores sin convertirlos en una  columna, usamos el parámetro drop = True."
   ]
  },
  {
   "cell_type": "code",
   "execution_count": null,
   "id": "31d45a95",
   "metadata": {},
   "outputs": [],
   "source": [
    "df1 = pd.DataFrame([[3, 6, 2], [6, 8, 5], [7, 0, 5], [4, 3, 8]])\n",
    "df1.index = ['fila 1', 'fila 2', 'fila 3', 'fila 4']\n",
    "df1"
   ]
  },
  {
   "cell_type": "code",
   "execution_count": null,
   "id": "40d9aaed",
   "metadata": {},
   "outputs": [],
   "source": [
    "df1.reset_index(drop = True)"
   ]
  },
  {
   "cell_type": "markdown",
   "id": "8164deda",
   "metadata": {},
   "source": [
    "## 3.3. reindex\n",
    "El método reindex permite cambiar el orden  en que se encuentran las etiquetas pero  manteniendo la alineación de los datos con la  etiqueta original. Sólo se conservan las ﬁlas  cuyas etiquetas se indiquen explícitamente.\n",
    "Si se agregan etiquetas nuevas, los valores  correspondientes se llenan con missing values  a menos que explícitamente se indique el valor  deseado en el parámetro fill_value."
   ]
  },
  {
   "cell_type": "code",
   "execution_count": null,
   "id": "3ae8be96",
   "metadata": {},
   "outputs": [],
   "source": [
    "df1"
   ]
  },
  {
   "cell_type": "code",
   "execution_count": null,
   "id": "2882401e",
   "metadata": {},
   "outputs": [],
   "source": [
    "df1.reindex(['fila 4', 'fila 2', 'fila 1', 'fila 3'])"
   ]
  },
  {
   "cell_type": "markdown",
   "id": "dc0d5b3e",
   "metadata": {},
   "source": [
    "# Modulo 4.- Pandas 4"
   ]
  },
  {
   "cell_type": "markdown",
   "id": "b7eccc2d",
   "metadata": {},
   "source": [
    "## 4.1. Operaciones aritméticas\n",
    "Cuando realizamos operaciones entre series o dataframes,  todas las operaciones son alineadas según las etiquetas  (recordemos que en numpy la alineación es por la posición).\n",
    "\n",
    "Consideremos dos series con la misma cantidad de  elementos pero que sólo comparten algunos índices. Si  realizamos la suma de las series los elementos, se van a  sumar sólo si comparten el mismo índice.\n",
    "\n",
    "En el caso de que haya índices que estén presentes en una  serie pero no en la otra, los elementos se van a completar  con NaN de modo que la nueva serie tenga todos los índices  de ambas series.\n",
    "\n"
   ]
  },
  {
   "cell_type": "code",
   "execution_count": 2,
   "id": "fd8b6aa4",
   "metadata": {},
   "outputs": [],
   "source": [
    "s1 = pd.Series([5, 7, 2, 8, 0, 1])\n",
    "s2 = pd.Series([17, 4, 1, 0, 0, 1], index = [3, 4, 5, 6, 7, 8])"
   ]
  },
  {
   "cell_type": "code",
   "execution_count": 3,
   "id": "cdd0b0a3",
   "metadata": {},
   "outputs": [
    {
     "name": "stdout",
     "output_type": "stream",
     "text": [
      "0    5\n",
      "1    7\n",
      "2    2\n",
      "3    8\n",
      "4    0\n",
      "5    1\n",
      "dtype: int64\n",
      "3    17\n",
      "4     4\n",
      "5     1\n",
      "6     0\n",
      "7     0\n",
      "8     1\n",
      "dtype: int64\n"
     ]
    }
   ],
   "source": [
    "print(s1)\n",
    "print(s2)"
   ]
  },
  {
   "cell_type": "code",
   "execution_count": 4,
   "id": "6c7e1454",
   "metadata": {},
   "outputs": [
    {
     "data": {
      "text/plain": [
       "0     NaN\n",
       "1     NaN\n",
       "2     NaN\n",
       "3    25.0\n",
       "4     4.0\n",
       "5     2.0\n",
       "6     NaN\n",
       "7     NaN\n",
       "8     NaN\n",
       "dtype: float64"
      ]
     },
     "execution_count": 4,
     "metadata": {},
     "output_type": "execute_result"
    }
   ],
   "source": [
    "s1 + s2"
   ]
  },
  {
   "cell_type": "markdown",
   "id": "f5898fa7",
   "metadata": {},
   "source": [
    "## 4.2. Alineación\n",
    "Con dataframes la alineación sucede tanto en  ﬁlas como en columnas.\n"
   ]
  },
  {
   "cell_type": "code",
   "execution_count": 9,
   "id": "88b892ec",
   "metadata": {},
   "outputs": [],
   "source": [
    "array1 = np.random.randint(0, 50, (6,4))\n",
    "array2 = np.random.randint(0, 50, (6,4))"
   ]
  },
  {
   "cell_type": "code",
   "execution_count": null,
   "id": "c94ff406",
   "metadata": {},
   "outputs": [],
   "source": [
    "df1 = pd.DataFrame(array1, columns = ['A', 'B', 'C', 'D'] )\n",
    "df1"
   ]
  },
  {
   "cell_type": "code",
   "execution_count": 10,
   "id": "973f6200",
   "metadata": {},
   "outputs": [
    {
     "data": {
      "text/html": [
       "<div>\n",
       "<style scoped>\n",
       "    .dataframe tbody tr th:only-of-type {\n",
       "        vertical-align: middle;\n",
       "    }\n",
       "\n",
       "    .dataframe tbody tr th {\n",
       "        vertical-align: top;\n",
       "    }\n",
       "\n",
       "    .dataframe thead th {\n",
       "        text-align: right;\n",
       "    }\n",
       "</style>\n",
       "<table border=\"1\" class=\"dataframe\">\n",
       "  <thead>\n",
       "    <tr style=\"text-align: right;\">\n",
       "      <th></th>\n",
       "      <th>C</th>\n",
       "      <th>D</th>\n",
       "      <th>E</th>\n",
       "      <th>F</th>\n",
       "    </tr>\n",
       "  </thead>\n",
       "  <tbody>\n",
       "    <tr>\n",
       "      <th>3</th>\n",
       "      <td>20</td>\n",
       "      <td>11</td>\n",
       "      <td>27</td>\n",
       "      <td>14</td>\n",
       "    </tr>\n",
       "    <tr>\n",
       "      <th>4</th>\n",
       "      <td>5</td>\n",
       "      <td>20</td>\n",
       "      <td>47</td>\n",
       "      <td>38</td>\n",
       "    </tr>\n",
       "    <tr>\n",
       "      <th>5</th>\n",
       "      <td>24</td>\n",
       "      <td>35</td>\n",
       "      <td>47</td>\n",
       "      <td>43</td>\n",
       "    </tr>\n",
       "    <tr>\n",
       "      <th>6</th>\n",
       "      <td>19</td>\n",
       "      <td>47</td>\n",
       "      <td>4</td>\n",
       "      <td>41</td>\n",
       "    </tr>\n",
       "    <tr>\n",
       "      <th>7</th>\n",
       "      <td>20</td>\n",
       "      <td>21</td>\n",
       "      <td>46</td>\n",
       "      <td>23</td>\n",
       "    </tr>\n",
       "    <tr>\n",
       "      <th>8</th>\n",
       "      <td>46</td>\n",
       "      <td>25</td>\n",
       "      <td>18</td>\n",
       "      <td>21</td>\n",
       "    </tr>\n",
       "  </tbody>\n",
       "</table>\n",
       "</div>"
      ],
      "text/plain": [
       "    C   D   E   F\n",
       "3  20  11  27  14\n",
       "4   5  20  47  38\n",
       "5  24  35  47  43\n",
       "6  19  47   4  41\n",
       "7  20  21  46  23\n",
       "8  46  25  18  21"
      ]
     },
     "execution_count": 10,
     "metadata": {},
     "output_type": "execute_result"
    }
   ],
   "source": [
    "df2 = pd.DataFrame(array2, index = [3, 4, 5, 6, 7, 8], columns = ['C', 'D', 'E', 'F'] )\n",
    "df2"
   ]
  },
  {
   "cell_type": "code",
   "execution_count": null,
   "id": "ef8fb777",
   "metadata": {},
   "outputs": [],
   "source": [
    "df1 + df2"
   ]
  },
  {
   "cell_type": "markdown",
   "id": "954d8f53",
   "metadata": {},
   "source": [
    "## 4.3. Operaciones\n",
    "Podemos operar entre dos columnas de un  dataframe. En este caso se comparte el índice, por  lo que todos los datos se encuentran alineados.\n",
    "\n",
    "Sólo si alguno de los valores es NaN el resultado  correspondiente también lo será.\n",
    "Estas operaciones generan una nueva serie, que  se puede usar para crear una nueva columna en el  dataframe o para reemplazar una existente. Esto  se logra con una asignación directa.\n",
    "\n"
   ]
  },
  {
   "cell_type": "code",
   "execution_count": null,
   "id": "7a2ce95d",
   "metadata": {},
   "outputs": [],
   "source": [
    "df1['A'] + df1['B']"
   ]
  },
  {
   "cell_type": "code",
   "execution_count": null,
   "id": "553813a2",
   "metadata": {},
   "outputs": [],
   "source": [
    "# creacion de una nueva columna\n",
    "df1['E'] = df1['A'] + df1['B']\n",
    "\n",
    "df1"
   ]
  },
  {
   "cell_type": "code",
   "execution_count": null,
   "id": "e40723fc",
   "metadata": {},
   "outputs": [],
   "source": [
    "# reasignacion de columna existente\n",
    "df1['E'] = df1['C'] + df1['D']\n",
    "df1"
   ]
  },
  {
   "cell_type": "markdown",
   "id": "923081c9",
   "metadata": {},
   "source": [
    "## 4.4. Metodos asociados\n",
    "Todos los operadores tienen métodos asociados que permiten  realizar la misma operación. Sin embargo, los métodos ofrecen  la posibilidad de controlar ciertos parámetros, dando más  ﬂexibilidad a la hora de hacer las operaciones.\n",
    "\n",
    "Por ejemplo, el parámetro fill_value completa los NaN  existentes en los objetos antes de la operación. También utiliza  este valor para cualquier alineación que sea necesaria (en caso  de que no exista la etiqueta en una de las estructuras).\n",
    "\n",
    "![imagen](metodos.png)"
   ]
  },
  {
   "cell_type": "code",
   "execution_count": 5,
   "id": "6fdad78a",
   "metadata": {},
   "outputs": [
    {
     "data": {
      "text/plain": [
       "0     NaN\n",
       "1     NaN\n",
       "2     NaN\n",
       "3    25.0\n",
       "4     4.0\n",
       "5     2.0\n",
       "6     NaN\n",
       "7     NaN\n",
       "8     NaN\n",
       "dtype: float64"
      ]
     },
     "execution_count": 5,
     "metadata": {},
     "output_type": "execute_result"
    }
   ],
   "source": [
    "s1.add(s2)"
   ]
  },
  {
   "cell_type": "code",
   "execution_count": 8,
   "id": "92412171",
   "metadata": {},
   "outputs": [
    {
     "data": {
      "text/plain": [
       "0     5.0\n",
       "1     7.0\n",
       "2     2.0\n",
       "3    25.0\n",
       "4     4.0\n",
       "5     2.0\n",
       "6     0.0\n",
       "7     0.0\n",
       "8     1.0\n",
       "dtype: float64"
      ]
     },
     "execution_count": 8,
     "metadata": {},
     "output_type": "execute_result"
    }
   ],
   "source": [
    "s1.add(s2, fill_value = 0)"
   ]
  },
  {
   "cell_type": "markdown",
   "id": "44cc4e43",
   "metadata": {},
   "source": [
    "## 4.5. Comparaciones\n",
    "También existen los operadores de comparación y  sus métodos correspondientes. El comportamiento es  similar al de los operadores y métodos aritméticos.\n",
    "Estas operaciones producen estructuras de booleanos  que luego se pueden utilizar para hacer ﬁltros.\n",
    "Para producir ﬁltros más complejos tenemos que ser  capaces de combinar comparaciones. Los operadores  and, or y not no funcionan con series o dataframes.  Para hacer operaciones lógicas elemento a elemento  hay que usar los operadores  &, | y ~.\n",
    "Es importante usar paréntesis para agrupar  correctamente las operaciones ya que no tienen el  mismo orden de precedencia que los operadores  habituales.\n"
   ]
  },
  {
   "cell_type": "code",
   "execution_count": 11,
   "id": "619b931e",
   "metadata": {},
   "outputs": [
    {
     "data": {
      "text/html": [
       "<div>\n",
       "<style scoped>\n",
       "    .dataframe tbody tr th:only-of-type {\n",
       "        vertical-align: middle;\n",
       "    }\n",
       "\n",
       "    .dataframe tbody tr th {\n",
       "        vertical-align: top;\n",
       "    }\n",
       "\n",
       "    .dataframe thead th {\n",
       "        text-align: right;\n",
       "    }\n",
       "</style>\n",
       "<table border=\"1\" class=\"dataframe\">\n",
       "  <thead>\n",
       "    <tr style=\"text-align: right;\">\n",
       "      <th></th>\n",
       "      <th>C</th>\n",
       "      <th>D</th>\n",
       "      <th>E</th>\n",
       "      <th>F</th>\n",
       "    </tr>\n",
       "  </thead>\n",
       "  <tbody>\n",
       "    <tr>\n",
       "      <th>3</th>\n",
       "      <td>20</td>\n",
       "      <td>11</td>\n",
       "      <td>27</td>\n",
       "      <td>14</td>\n",
       "    </tr>\n",
       "    <tr>\n",
       "      <th>4</th>\n",
       "      <td>5</td>\n",
       "      <td>20</td>\n",
       "      <td>47</td>\n",
       "      <td>38</td>\n",
       "    </tr>\n",
       "    <tr>\n",
       "      <th>5</th>\n",
       "      <td>24</td>\n",
       "      <td>35</td>\n",
       "      <td>47</td>\n",
       "      <td>43</td>\n",
       "    </tr>\n",
       "    <tr>\n",
       "      <th>6</th>\n",
       "      <td>19</td>\n",
       "      <td>47</td>\n",
       "      <td>4</td>\n",
       "      <td>41</td>\n",
       "    </tr>\n",
       "    <tr>\n",
       "      <th>7</th>\n",
       "      <td>20</td>\n",
       "      <td>21</td>\n",
       "      <td>46</td>\n",
       "      <td>23</td>\n",
       "    </tr>\n",
       "    <tr>\n",
       "      <th>8</th>\n",
       "      <td>46</td>\n",
       "      <td>25</td>\n",
       "      <td>18</td>\n",
       "      <td>21</td>\n",
       "    </tr>\n",
       "  </tbody>\n",
       "</table>\n",
       "</div>"
      ],
      "text/plain": [
       "    C   D   E   F\n",
       "3  20  11  27  14\n",
       "4   5  20  47  38\n",
       "5  24  35  47  43\n",
       "6  19  47   4  41\n",
       "7  20  21  46  23\n",
       "8  46  25  18  21"
      ]
     },
     "execution_count": 11,
     "metadata": {},
     "output_type": "execute_result"
    }
   ],
   "source": [
    "df2"
   ]
  },
  {
   "cell_type": "code",
   "execution_count": 12,
   "id": "52d1b17a",
   "metadata": {},
   "outputs": [
    {
     "data": {
      "text/plain": [
       "3     True\n",
       "4    False\n",
       "5     True\n",
       "6    False\n",
       "7     True\n",
       "8     True\n",
       "Name: C, dtype: bool"
      ]
     },
     "execution_count": 12,
     "metadata": {},
     "output_type": "execute_result"
    }
   ],
   "source": [
    "df2['C']>19"
   ]
  },
  {
   "cell_type": "code",
   "execution_count": 13,
   "id": "7829e4e9",
   "metadata": {},
   "outputs": [
    {
     "data": {
      "text/html": [
       "<div>\n",
       "<style scoped>\n",
       "    .dataframe tbody tr th:only-of-type {\n",
       "        vertical-align: middle;\n",
       "    }\n",
       "\n",
       "    .dataframe tbody tr th {\n",
       "        vertical-align: top;\n",
       "    }\n",
       "\n",
       "    .dataframe thead th {\n",
       "        text-align: right;\n",
       "    }\n",
       "</style>\n",
       "<table border=\"1\" class=\"dataframe\">\n",
       "  <thead>\n",
       "    <tr style=\"text-align: right;\">\n",
       "      <th></th>\n",
       "      <th>C</th>\n",
       "      <th>D</th>\n",
       "      <th>E</th>\n",
       "      <th>F</th>\n",
       "    </tr>\n",
       "  </thead>\n",
       "  <tbody>\n",
       "    <tr>\n",
       "      <th>3</th>\n",
       "      <td>20</td>\n",
       "      <td>11</td>\n",
       "      <td>27</td>\n",
       "      <td>14</td>\n",
       "    </tr>\n",
       "    <tr>\n",
       "      <th>5</th>\n",
       "      <td>24</td>\n",
       "      <td>35</td>\n",
       "      <td>47</td>\n",
       "      <td>43</td>\n",
       "    </tr>\n",
       "    <tr>\n",
       "      <th>7</th>\n",
       "      <td>20</td>\n",
       "      <td>21</td>\n",
       "      <td>46</td>\n",
       "      <td>23</td>\n",
       "    </tr>\n",
       "    <tr>\n",
       "      <th>8</th>\n",
       "      <td>46</td>\n",
       "      <td>25</td>\n",
       "      <td>18</td>\n",
       "      <td>21</td>\n",
       "    </tr>\n",
       "  </tbody>\n",
       "</table>\n",
       "</div>"
      ],
      "text/plain": [
       "    C   D   E   F\n",
       "3  20  11  27  14\n",
       "5  24  35  47  43\n",
       "7  20  21  46  23\n",
       "8  46  25  18  21"
      ]
     },
     "execution_count": 13,
     "metadata": {},
     "output_type": "execute_result"
    }
   ],
   "source": [
    "df2[df2['C']>19]"
   ]
  },
  {
   "cell_type": "code",
   "execution_count": 15,
   "id": "df8c4e52",
   "metadata": {},
   "outputs": [
    {
     "data": {
      "text/html": [
       "<div>\n",
       "<style scoped>\n",
       "    .dataframe tbody tr th:only-of-type {\n",
       "        vertical-align: middle;\n",
       "    }\n",
       "\n",
       "    .dataframe tbody tr th {\n",
       "        vertical-align: top;\n",
       "    }\n",
       "\n",
       "    .dataframe thead th {\n",
       "        text-align: right;\n",
       "    }\n",
       "</style>\n",
       "<table border=\"1\" class=\"dataframe\">\n",
       "  <thead>\n",
       "    <tr style=\"text-align: right;\">\n",
       "      <th></th>\n",
       "      <th>C</th>\n",
       "      <th>D</th>\n",
       "      <th>E</th>\n",
       "      <th>F</th>\n",
       "    </tr>\n",
       "  </thead>\n",
       "  <tbody>\n",
       "    <tr>\n",
       "      <th>6</th>\n",
       "      <td>19</td>\n",
       "      <td>47</td>\n",
       "      <td>4</td>\n",
       "      <td>41</td>\n",
       "    </tr>\n",
       "  </tbody>\n",
       "</table>\n",
       "</div>"
      ],
      "text/plain": [
       "    C   D  E   F\n",
       "6  19  47  4  41"
      ]
     },
     "execution_count": 15,
     "metadata": {},
     "output_type": "execute_result"
    }
   ],
   "source": [
    "df2[df2['E']<15]"
   ]
  },
  {
   "cell_type": "code",
   "execution_count": 17,
   "id": "37bf024d",
   "metadata": {},
   "outputs": [
    {
     "data": {
      "text/html": [
       "<div>\n",
       "<style scoped>\n",
       "    .dataframe tbody tr th:only-of-type {\n",
       "        vertical-align: middle;\n",
       "    }\n",
       "\n",
       "    .dataframe tbody tr th {\n",
       "        vertical-align: top;\n",
       "    }\n",
       "\n",
       "    .dataframe thead th {\n",
       "        text-align: right;\n",
       "    }\n",
       "</style>\n",
       "<table border=\"1\" class=\"dataframe\">\n",
       "  <thead>\n",
       "    <tr style=\"text-align: right;\">\n",
       "      <th></th>\n",
       "      <th>C</th>\n",
       "      <th>D</th>\n",
       "      <th>E</th>\n",
       "      <th>F</th>\n",
       "    </tr>\n",
       "  </thead>\n",
       "  <tbody>\n",
       "    <tr>\n",
       "      <th>3</th>\n",
       "      <td>20</td>\n",
       "      <td>11</td>\n",
       "      <td>27</td>\n",
       "      <td>14</td>\n",
       "    </tr>\n",
       "    <tr>\n",
       "      <th>5</th>\n",
       "      <td>24</td>\n",
       "      <td>35</td>\n",
       "      <td>47</td>\n",
       "      <td>43</td>\n",
       "    </tr>\n",
       "    <tr>\n",
       "      <th>6</th>\n",
       "      <td>19</td>\n",
       "      <td>47</td>\n",
       "      <td>4</td>\n",
       "      <td>41</td>\n",
       "    </tr>\n",
       "    <tr>\n",
       "      <th>7</th>\n",
       "      <td>20</td>\n",
       "      <td>21</td>\n",
       "      <td>46</td>\n",
       "      <td>23</td>\n",
       "    </tr>\n",
       "    <tr>\n",
       "      <th>8</th>\n",
       "      <td>46</td>\n",
       "      <td>25</td>\n",
       "      <td>18</td>\n",
       "      <td>21</td>\n",
       "    </tr>\n",
       "  </tbody>\n",
       "</table>\n",
       "</div>"
      ],
      "text/plain": [
       "    C   D   E   F\n",
       "3  20  11  27  14\n",
       "5  24  35  47  43\n",
       "6  19  47   4  41\n",
       "7  20  21  46  23\n",
       "8  46  25  18  21"
      ]
     },
     "execution_count": 17,
     "metadata": {},
     "output_type": "execute_result"
    }
   ],
   "source": [
    "df2[(df2['C']>19) | (df2['E']<15)]"
   ]
  },
  {
   "cell_type": "code",
   "execution_count": null,
   "id": "e2de46a8",
   "metadata": {},
   "outputs": [],
   "source": []
  }
 ],
 "metadata": {
  "kernelspec": {
   "display_name": "Python 3 (ipykernel)",
   "language": "python",
   "name": "python3"
  },
  "language_info": {
   "codemirror_mode": {
    "name": "ipython",
    "version": 3
   },
   "file_extension": ".py",
   "mimetype": "text/x-python",
   "name": "python",
   "nbconvert_exporter": "python",
   "pygments_lexer": "ipython3",
   "version": "3.9.12"
  }
 },
 "nbformat": 4,
 "nbformat_minor": 5
}
