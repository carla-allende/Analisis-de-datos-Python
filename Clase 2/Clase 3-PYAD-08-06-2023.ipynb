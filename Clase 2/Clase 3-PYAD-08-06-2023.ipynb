{
 "cells": [
  {
   "cell_type": "markdown",
   "id": "466e5de6",
   "metadata": {},
   "source": [
    "# Analisis de Datos con Python - Clase 3\n",
    "\n",
    "[Material Complementario](https://1drv.ms/f/s!Anh5cvrOJtUTlPZnUCQ9UDEpjh1Gtg?e=P6Qlu9)"
   ]
  },
  {
   "cell_type": "code",
   "execution_count": null,
   "id": "0eeff0af",
   "metadata": {},
   "outputs": [],
   "source": [
    "![image](numpy.png)"
   ]
  },
  {
   "cell_type": "code",
   "execution_count": null,
   "id": "1996292c",
   "metadata": {},
   "outputs": [],
   "source": []
  },
  {
   "cell_type": "markdown",
   "id": "b29efac3",
   "metadata": {},
   "source": [
    "# MODULO 3 - Biblioteca Numpy 1\n",
    "Numpy (de Numerical Python) es la principal librería de  cálculo numérico de Python y el ecosistema de librerías  cientíﬁcas del lenguaje (como Pandas y Matplotlib)  recurre a Numpy para realizar sus operaciones.    \n",
    "Se basa en una estructura de datos multidimensional  llamada **array** y en una serie de funciones muy  optimizadas para su manipulación, incluyendo  operaciones matemáticas, lógicas, de selección y  ordenamiento, operaciones estadísticas, álgebra lineal  y más."
   ]
  },
  {
   "cell_type": "code",
   "execution_count": null,
   "id": "7dee3700",
   "metadata": {},
   "outputs": [],
   "source": []
  }
 ],
 "metadata": {
  "kernelspec": {
   "display_name": "Python 3 (ipykernel)",
   "language": "python",
   "name": "python3"
  },
  "language_info": {
   "codemirror_mode": {
    "name": "ipython",
    "version": 3
   },
   "file_extension": ".py",
   "mimetype": "text/x-python",
   "name": "python",
   "nbconvert_exporter": "python",
   "pygments_lexer": "ipython3",
   "version": "3.10.9"
  }
 },
 "nbformat": 4,
 "nbformat_minor": 5
}
