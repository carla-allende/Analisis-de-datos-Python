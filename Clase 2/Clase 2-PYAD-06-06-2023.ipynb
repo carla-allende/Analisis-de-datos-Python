{
 "cells": [
  {
   "cell_type": "code",
   "execution_count": 1,
   "id": "b42a043e",
   "metadata": {},
   "outputs": [
    {
     "ename": "SyntaxError",
     "evalue": "invalid syntax (2139850934.py, line 7)",
     "output_type": "error",
     "traceback": [
      "\u001b[1;36m  Cell \u001b[1;32mIn[1], line 7\u001b[1;36m\u001b[0m\n\u001b[1;33m    Este es un ejemplo de texto sin formato en una celda \"raw nbconvert\".\u001b[0m\n\u001b[1;37m         ^\u001b[0m\n\u001b[1;31mSyntaxError\u001b[0m\u001b[1;31m:\u001b[0m invalid syntax\n"
     ]
    }
   ],
   "source": [
    "# Esto es un ejemplo de una celda de código en Python\n",
    "\n",
    "# %%\n",
    "# Esto es una celda \"raw nbconvert\" que muestra texto sin formato\n",
    "# Puedes agregar cualquier contenido que desees aquí y no será interpretado como código\n",
    "\n",
    "Este es un ejemplo de texto sin formato en una celda \"raw nbconvert\".\n",
    "Aquí puedes incluir notas, instrucciones, enlaces o cualquier otro tipo de contenido que desees mostrar en el notebook sin que se ejecute como código o se formatee automáticamente.\n",
    "\n",
    "Recuerda que el contenido en una celda \"raw nbconvert\" se mantendrá sin modificaciones al convertir el notebook a otros formatos, como HTML o PDF."
   ]
  },
  {
   "cell_type": "markdown",
   "id": "68d9a610",
   "metadata": {},
   "source": []
  },
  {
   "cell_type": "code",
   "execution_count": 2,
   "id": "2f968dd8",
   "metadata": {},
   "outputs": [
    {
     "ename": "NameError",
     "evalue": "name 'np' is not defined",
     "output_type": "error",
     "traceback": [
      "\u001b[1;31m---------------------------------------------------------------------------\u001b[0m",
      "\u001b[1;31mNameError\u001b[0m                                 Traceback (most recent call last)",
      "Cell \u001b[1;32mIn[2], line 3\u001b[0m\n\u001b[0;32m      1\u001b[0m arr1 \u001b[38;5;241m=\u001b[39m [\u001b[38;5;241m0\u001b[39m, \u001b[38;5;241m0\u001b[39m, \u001b[38;5;241m1\u001b[39m, \u001b[38;5;241m1\u001b[39m]\n\u001b[0;32m      2\u001b[0m arr2 \u001b[38;5;241m=\u001b[39m [\u001b[38;5;241m0\u001b[39m, \u001b[38;5;241m1\u001b[39m, \u001b[38;5;241m0\u001b[39m, \u001b[38;5;241m1\u001b[39m]\n\u001b[1;32m----> 3\u001b[0m arr3 \u001b[38;5;241m=\u001b[39m \u001b[43mnp\u001b[49m\u001b[38;5;241m.\u001b[39mlogical_xor(arr1, arr2)\n\u001b[0;32m      4\u001b[0m \u001b[38;5;28mprint\u001b[39m(arr3)\n",
      "\u001b[1;31mNameError\u001b[0m: name 'np' is not defined"
     ]
    }
   ],
   "source": [
    "arr1 = [0, 0, 1, 1]\n",
    "arr2 = [0, 1, 0, 1]\n",
    "arr3 = np.logical_xor(arr1, arr2)\n",
    "print(arr3)\n"
   ]
  },
  {
   "cell_type": "markdown",
   "id": "ae363b8d",
   "metadata": {},
   "source": [
    "# 1. Datos\n",
    "## 1.1.  ¿Qué es un dato?\n",
    "Los datos pueden ser cuantitativos o cualitativos,  es decir que pueden ser representados por números  (y normalmente alguna unidad) en el primer caso, o  por palabras que representan alguna cualidad en el  segundo. Por ejemplo, que un ﬁlm dure 2 horas es un  dato cuantitativo y que una persona lo caliﬁque como  ‘excelente’ es un dato cualitativo.\n",
    "\n",
    "## 1.2. Estructura de datos\n",
    "También se puede diferenciar entre datos estructurados\n",
    "y no estructurados.\n",
    "Básicamente, entendemos por datos estructurados a  aquellos que se encuentran ordenados por tipo de dato y  que son fácilmente accesibles. Ejemplos de este tipo son  las bases de datos relacionales, las planillas de cálculo, los  csv, los formularios, etc.\n",
    "Por su parte, los datos no estructurados son aquellos  que carecen de un orden dado por un esquema  predeﬁnido. Esto hace que la información no sea tan fácil  de acceder como en los datos estructurados. Ejemplos son  archivos de texto, audio, imágenes, video, etc.\n"
   ]
  },
  {
   "cell_type": "markdown",
   "id": "4929e18e",
   "metadata": {},
   "source": [
    "![image.png](datos.png)\n",
    "\n",
    "## 1.3. Datos Estructurados\n",
    "\n",
    "Son datos formateados según parámetros específicos, para organización en esquemas relacionales. Uno de los principales formatos de datos estructurados son las tablas, que se distribuyen en filas y columnas con valores predeterminados.\n",
    "\n",
    "Ejemplos: hojas de cálculo y bases de datos (Excel, CSV, SQL, archivos JSON, entre otros).\n",
    "\n",
    " \n",
    "\n",
    "## 1.4. Datos Semiestructurados\n",
    "\n",
    "Como su nombre indica, se dan con cierta organización interna, pero no están del todo estructurados.\n",
    "\n",
    "Ejemplos: archivos web (HTML, XML, OWL, entre otros).\n",
    "\n",
    " \n",
    "\n",
    "## 1.5. Datos no Estructurados\n",
    "\n",
    "Son datos sin una organización o jerarquía interna clara. Es la categoría más amplia y cubre la mayor parte de los datos de la web.\n",
    "\n",
    "Ejemplos: documentos de texto (archivos Word, PDF), archivos multimedia (imagen, audio y video), correos electrónicos, mensajes de texto, datos de redes sociales, dispositivos móviles, Internet de las cosas (IoT), entre otros."
   ]
  },
  {
   "cell_type": "markdown",
   "id": "641899ab",
   "metadata": {},
   "source": [
    "## 1.6. Representación de datos\n",
    "La memoria de una computadora se constituye en una  serie de bits, que sólo pueden almacenar ceros y unos.  Así que, para poder usar una computadora para analizar  datos, hay que representarlos como una combinación de  ceros y unos.\n",
    "Es decir, hay que establecer algún tipo de codiﬁcación  entre la información que queremos representar y los  elementos de la memoria de la máquina para que sea  posible tanto codiﬁcarlos, como analizarlos y  decodiﬁcarlos.\n",
    "Así es como surge la necesidad de deﬁnir distintos tipos  de datos.\n",
    "\n",
    "### Mostrar pdf con tipos de datos y hacer ejermplo de binario a decimal\n",
    "\n",
    "![image.png](binarios.png)\n",
    "\n",
    "https://www.um.es/geograf/sigmur/temariohtml/node31.html"
   ]
  },
  {
   "cell_type": "markdown",
   "id": "e499217d",
   "metadata": {},
   "source": [
    "## 1.7. Tipos de datos en Python\n",
    "En Python, distinguimos  cuatro tipos de dato básicos: números enteros,  \n",
    "números de coma flotante (racionales), cadenas  (conjunto de caracteres para representar un texto) \n",
    "y booleanos (aquellos que solo pueden contener  dos valores: verdadero o falso).\n"
   ]
  },
  {
   "cell_type": "code",
   "execution_count": 3,
   "id": "7b2a64b5",
   "metadata": {},
   "outputs": [],
   "source": [
    "a = 12\n",
    "saludo = \"Hola mundo\"\n",
    "pi = 3.14\n",
    "encendido = True"
   ]
  },
  {
   "cell_type": "code",
   "execution_count": 4,
   "id": "8d09983e",
   "metadata": {},
   "outputs": [
    {
     "name": "stdout",
     "output_type": "stream",
     "text": [
      "<class 'int'> <class 'str'> <class 'float'> <class 'bool'>\n"
     ]
    }
   ],
   "source": [
    "print(type(a),type(saludo),type(pi), type(encendido))"
   ]
  },
  {
   "cell_type": "markdown",
   "id": "f8b7ba1b",
   "metadata": {},
   "source": [
    "La sintaxis de Python para representar números  decimales es usando la coma por un punto \n",
    "En el caso de  los booleanos, los únicos dos valores que  aceptan son True y False. \n",
    "Nótese que Python  distingue entre minúsculas y mayúsculas; por  ende,  true o TRUE son incorrectos.\n",
    "\n",
    "## 1.8. Tipado Dinamico\n",
    "Un  lenguaje de programación es dinámicamente  tipado si una variable puede tomar valores de distinto tipo, en tiempo de ejecucion del programa."
   ]
  },
  {
   "cell_type": "code",
   "execution_count": null,
   "id": "aa256a4c",
   "metadata": {},
   "outputs": [],
   "source": [
    "b = 1\n",
    "print(type(b))\n",
    "\n",
    "b = \"Hola mundo\"\n",
    "print(type(b))"
   ]
  },
  {
   "cell_type": "code",
   "execution_count": 5,
   "id": "c4e29b3e",
   "metadata": {},
   "outputs": [
    {
     "name": "stdout",
     "output_type": "stream",
     "text": [
      "<class 'str'>\n",
      "<class 'int'>\n"
     ]
    }
   ],
   "source": [
    "variable: str = \"Jorge\"\n",
    "print(type(variable))\n",
    "\n",
    "variable= 1\n",
    "print(type(variable))\n"
   ]
  },
  {
   "cell_type": "code",
   "execution_count": 6,
   "id": "4e1a8792",
   "metadata": {},
   "outputs": [
    {
     "name": "stdout",
     "output_type": "stream",
     "text": [
      "<class 'str'>\n"
     ]
    }
   ],
   "source": [
    "variable=str(12345)\n",
    "print(type(variable))\n"
   ]
  },
  {
   "cell_type": "code",
   "execution_count": 11,
   "id": "057383c8",
   "metadata": {},
   "outputs": [
    {
     "name": "stdout",
     "output_type": "stream",
     "text": [
      "<class 'str'>\n"
     ]
    }
   ],
   "source": [
    "print(type(str()))\n"
   ]
  },
  {
   "cell_type": "markdown",
   "id": "347ef65c",
   "metadata": {},
   "source": [
    "# 2. Objetos \n",
    "En Python todo son objetos, en el sentido de la  programación orientada a objetos. Incluso las funciones y  las clases son objetos también. Eso permite que cualquier  cosa pueda ser referenciada por una variable. Y decimos  referenciada porque, en Python, crear una variable es crear  un nombre con una referencia (puntero) a la dirección de  memoria en donde el objeto se encuentra.\n",
    "Esta es la razón por la que una variable no está limitada a  un tipo de dato en particular (tipado dinámico) y crear una  nueva asignación a otro tipo de dato es simplemente  cambiar la referencia de la variable."
   ]
  },
  {
   "cell_type": "code",
   "execution_count": 13,
   "id": "a85678f9",
   "metadata": {},
   "outputs": [
    {
     "name": "stdout",
     "output_type": "stream",
     "text": [
      "2530321564016\n",
      "2530321564176\n",
      "\n",
      "5\n",
      "10\n"
     ]
    }
   ],
   "source": [
    "var1 = 5\n",
    "print(id(var1))\n",
    "\n",
    "var2 = 10\n",
    "print(id(var2))\n",
    "print()\n",
    "print(var1) \n",
    "print(var2)"
   ]
  },
  {
   "cell_type": "markdown",
   "id": "e51a99d6",
   "metadata": {},
   "source": [
    "Esto implica que muchas variables pueden apuntar  al mismo objeto. De hecho, cuando se ejecuta una  expresión del tipo var2 = var1 no se crea una copia  del dato sino que se copia la referencia, por lo que las  dos variables apuntan al mismo objeto en la memoria."
   ]
  },
  {
   "cell_type": "code",
   "execution_count": 15,
   "id": "59a548ff",
   "metadata": {},
   "outputs": [
    {
     "ename": "TypeError",
     "evalue": "'module' object is not callable",
     "output_type": "error",
     "traceback": [
      "\u001b[1;31m---------------------------------------------------------------------------\u001b[0m",
      "\u001b[1;31mTypeError\u001b[0m                                 Traceback (most recent call last)",
      "Cell \u001b[1;32mIn[15], line 3\u001b[0m\n\u001b[0;32m      1\u001b[0m \u001b[38;5;28;01mimport\u001b[39;00m \u001b[38;5;21;01mcopy\u001b[39;00m \n\u001b[1;32m----> 3\u001b[0m var2 \u001b[38;5;241m=\u001b[39m \u001b[43mcopy\u001b[49m\u001b[43m(\u001b[49m\u001b[43mvar1\u001b[49m\u001b[43m)\u001b[49m\n\u001b[0;32m      5\u001b[0m \u001b[38;5;28mprint\u001b[39m(\u001b[38;5;28mid\u001b[39m(var1))\n\u001b[0;32m      6\u001b[0m \u001b[38;5;28mprint\u001b[39m()\n",
      "\u001b[1;31mTypeError\u001b[0m: 'module' object is not callable"
     ]
    }
   ],
   "source": [
    "import copy \n",
    "\n",
    "var2 = copy(var1)\n",
    "\n",
    "print(id(var1))\n",
    "print()\n",
    "print(id(var2))\n",
    "print()\n",
    "print(var1) \n",
    "print(var2)"
   ]
  },
  {
   "cell_type": "markdown",
   "id": "1099221d",
   "metadata": {},
   "source": [
    "# 3. Colecciones en Python\n",
    "Una colección permite agrupar varios objetos bajo un mismo nombre. Por  ejemplo, \n",
    "si necesitamos almacenar en nuestro programa los nombres de  los alumnos de un curso de programación, \n",
    "será más conveniente ubicarlos  a todos dentro de una misma colección de nombre alumnos, en lugar de  crear los objetos alumno1, alumno2, etc. \n",
    "Como estuvimos haciendo con las  listas. Las listas forman parte de lo que llamamos “colecciones” de Python.\n",
    "Las colecciones permiten acceder de forma rápida y organizada a los datos.  \n",
    "\n",
    "Colecciones en Python:\n",
    "Listas (ya conocidas por nosotros).\n",
    "Tuplas.\n",
    "Diccionarios."
   ]
  },
  {
   "cell_type": "markdown",
   "id": "e7b17f68",
   "metadata": {},
   "source": [
    "## 3.1. Listas\n",
    "Las listas nos permiten agrupar varios objetos  (de cualquiera de los cuatro tipos de dato  básicos que vimos) en una misma variable.\n",
    "Cada  uno de estos objetos se conoce como elemento.\n",
    "Para crear una lista vamos a escoger un nombre  e indicar, entre corchetes y separados por  comas, los elementos.\n",
    "Por ejemplo, el siguiente  código crea una lista de cinco números primos"
   ]
  },
  {
   "cell_type": "code",
   "execution_count": 17,
   "id": "64f482b2",
   "metadata": {},
   "outputs": [
    {
     "name": "stdout",
     "output_type": "stream",
     "text": [
      "[2, 3, 5, 7, 11]\n",
      "\n",
      "\n",
      "['Jorge', 'Matias', 'Juan', 'Martin']\n",
      "\n",
      "[3.14, True, -1, False, 'Hola  mundo']\n"
     ]
    }
   ],
   "source": [
    "numeros_primos = [2, 3, 5, 7, 11]\n",
    "print(numeros_primos)\n",
    "\n",
    "print()\n",
    "# La siguiente es una lista con nombres de  alumnos:\n",
    "print()\n",
    "\n",
    "alumnos = [\"Jorge\", \"Matias\", \"Juan\",  \"Martin\"]\n",
    "print(alumnos)\n",
    "\n",
    "print()\n",
    "# Y esta última una lista con valores de  distintos tipos de dato:\n",
    "\n",
    "datos = [3.14, True, -1, False, \"Hola  mundo\"]\n",
    "print(datos)"
   ]
  },
  {
   "cell_type": "code",
   "execution_count": 18,
   "id": "4f6f95e3",
   "metadata": {},
   "outputs": [
    {
     "name": "stdout",
     "output_type": "stream",
     "text": [
      "<class 'list'> <class 'list'> <class 'float'> <class 'list'>\n"
     ]
    }
   ],
   "source": [
    "print(type(numeros_primos),type(alumnos),type(pi), type(datos))"
   ]
  },
  {
   "cell_type": "markdown",
   "id": "042c2150",
   "metadata": {},
   "source": [
    "## 3.1.1. Acceder a los elementos de una Listas\n",
    "Para acceder a un elemento de una lista a  partir de su índice,vamos a indicarlo entre  corchetes luego del nombre de la lista."
   ]
  },
  {
   "cell_type": "code",
   "execution_count": null,
   "id": "bbf46256",
   "metadata": {},
   "outputs": [],
   "source": [
    "numeros_primos"
   ]
  },
  {
   "cell_type": "code",
   "execution_count": null,
   "id": "347cd362",
   "metadata": {},
   "outputs": [],
   "source": [
    "print(numeros_primos[0])  \n",
    "print(numeros_primos[1])   \n",
    "print(numeros_primos[2])\n",
    "print(numeros_primos[3]) \n",
    "\n",
    "print('-----------------------')\n",
    "print(alumnos[2])"
   ]
  },
  {
   "cell_type": "code",
   "execution_count": null,
   "id": "5d144a82",
   "metadata": {},
   "outputs": [],
   "source": [
    "b=2"
   ]
  },
  {
   "cell_type": "code",
   "execution_count": null,
   "id": "42d094fd",
   "metadata": {},
   "outputs": [],
   "source": [
    "b.\n"
   ]
  },
  {
   "cell_type": "markdown",
   "id": "f83ed563",
   "metadata": {},
   "source": [
    "## 3.2. Tuplas\n",
    "\n",
    "En Python, una tupla es un conjunto  ordenado e inmutable de elementos de  este o de diferente tipo. \n",
    "Se representan  escribiendo los elementos entre paréntesis  y separados por comas. \n",
    "Se accede por el  índice, al igual que sucedía en las listas.\n",
    "Las tuplas no permiten asignación  de ítems, y tampoco tienen métodos\n"
   ]
  },
  {
   "cell_type": "code",
   "execution_count": null,
   "id": "7145a91f",
   "metadata": {},
   "outputs": [],
   "source": [
    "datos = (10,\"Hola\",5.5,True)\n",
    "type(datos)"
   ]
  },
  {
   "cell_type": "code",
   "execution_count": null,
   "id": "242f50a8",
   "metadata": {},
   "outputs": [],
   "source": [
    "mi_lista = [1,2,3]\n",
    "print(type(mi_lista))\n",
    "\n",
    "mi_tupla = (3,4,5)\n",
    "print(type(mi_tupla))"
   ]
  },
  {
   "cell_type": "code",
   "execution_count": null,
   "id": "f2151570",
   "metadata": {},
   "outputs": [],
   "source": [
    "# Listas vs Tuplas en Python\n",
    "\n",
    "# LISTAS son mutables\n",
    "mi_lista[1] = 'two'\n",
    "mi_lista.append('four')\n",
    "\n",
    "mi_lista\n",
    "\n",
    "# TUPLAS son inmutables\n",
    "mi_tupla[1] = 'two'\n",
    "mi_tupla.append('four')"
   ]
  },
  {
   "cell_type": "markdown",
   "id": "d74efab4",
   "metadata": {},
   "source": [
    "La diferencia cultural trata de como se utilizan realmente las listas y las tuplas: \n",
    "las listas se utilizan cuando se tiene una secuencia homogénea de longitud desconocida, \n",
    "las tuplas se utilizan cuando se conoce el número de elementos de antemano debido a que \n",
    "la posición del elemento es semánticamente significativa\n",
    "Por ejemplo, supongamos tenemos una función que dentro de un directorio nos devuelve todos los archivos .py (*.py). \n",
    "Esto se debería devolver en una lista, porque no sabemos cuantos archivos podemos encontrar.\n",
    "\n",
    "Por otra parte, supongamos que necesitamos almacenar 5 valores para representar la ubicación \n",
    "de las estaciones de observación meteorológicas: id, city, state, latitude y longitude. \n",
    "Una tupla es lo más adecuado para esto en lugar de una lista"
   ]
  },
  {
   "cell_type": "markdown",
   "id": "5460f4dd",
   "metadata": {},
   "source": [
    "## 3.3. Diccionarios\n",
    "\n",
    "Los diccionarios son colecciones, al igual  que las listas, pero sus elementos (o valores)  \n",
    "no están ordenados ni asociados a un  índice, sino a una clave. \n",
    "Entonces, decimos  que los miembros de un diccionario que  son pares de clave-valor.\n",
    "Para crear un diccionario vamos a emplear  llaves y separar sus miembros por comas,  \n",
    "que a su vez serán pares de una clave y un  valor separados por dos puntos.\n",
    "El siguiente código crea un diccionario de nombre  alumno1 cuyas claves son \"nombre\" y  \"cursos\", \n",
    "y sus valores, respectivamente,  \"Pablo\" y 3. \n",
    "Los valores de un diccionario  pueden ser de cualquier tipo de dato,  incluidos otros diccionarios y listas."
   ]
  },
  {
   "cell_type": "markdown",
   "id": "2f4f82f7",
   "metadata": {},
   "source": [
    "La disposición de los elementos al momento  de crear una lista es importante.\n",
    "Las listas  son colecciones ordenadas de objetos.\n",
    "A  cada uno de los elementos se le asigna un  INDICE,\n",
    "que no es otra cosa que la posición en  la que se encuentra en la lista,\n",
    "empezando  desde el 0."
   ]
  },
  {
   "cell_type": "code",
   "execution_count": 2,
   "id": "c3342191",
   "metadata": {},
   "outputs": [
    {
     "name": "stdout",
     "output_type": "stream",
     "text": [
      "Pablo\n",
      "3\n",
      "4\n",
      "Python\n"
     ]
    }
   ],
   "source": [
    "alumno1 = {\"nombre\": \"Pablo\", \"cursos\": 3}\n",
    "\n",
    "# Para acceder a los valores\n",
    "\n",
    "print(alumno1[\"nombre\"])  \n",
    "print(alumno1[\"cursos\"])\n",
    "\n",
    "# Para cambiar los valores\n",
    "\n",
    "alumno1[\"cursos\"] = 4\n",
    "print(alumno1[\"cursos\"])\n",
    "\n",
    "\n",
    "# Para crear nuevos pares CLAVE:VALOR\n",
    "\n",
    "alumno1[\"curso_actual\"] = \"Python\"\n",
    "print(alumno1[\"curso_actual\"])"
   ]
  },
  {
   "cell_type": "code",
   "execution_count": null,
   "id": "56cf2614",
   "metadata": {},
   "outputs": [],
   "source": []
  }
 ],
 "metadata": {
  "kernelspec": {
   "display_name": "Python 3 (ipykernel)",
   "language": "python",
   "name": "python3"
  },
  "language_info": {
   "codemirror_mode": {
    "name": "ipython",
    "version": 3
   },
   "file_extension": ".py",
   "mimetype": "text/x-python",
   "name": "python",
   "nbconvert_exporter": "python",
   "pygments_lexer": "ipython3",
   "version": "3.10.9"
  }
 },
 "nbformat": 4,
 "nbformat_minor": 5
}
