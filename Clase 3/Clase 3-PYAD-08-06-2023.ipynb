{
 "cells": [
  {
   "cell_type": "markdown",
   "id": "97a0be09",
   "metadata": {},
   "source": [
    "# Analisis de Datos con Python - Clase 3\n",
    "\n",
    "[Material Complementario](https://1drv.ms/f/s!Anh5cvrOJtUTlPZnUCQ9UDEpjh1Gtg?e=P6Qlu9)"
   ]
  },
  {
   "cell_type": "code",
   "execution_count": 5,
   "id": "501b25d9",
   "metadata": {},
   "outputs": [
    {
     "name": "stderr",
     "output_type": "stream",
     "text": [
      "\"[image]\" no se reconoce como un comando interno o externo,\n",
      "programa o archivo por lotes ejecutable.\n"
     ]
    }
   ],
   "source": [
    "![image](numpy.png) "
   ]
  },
  {
   "cell_type": "code",
   "execution_count": 8,
   "id": "11ddfdf9",
   "metadata": {},
   "outputs": [],
   "source": [
    "import numpy as np"
   ]
  },
  {
   "cell_type": "markdown",
   "id": "d3531c90",
   "metadata": {},
   "source": [
    "# MODULO 3 - Biblioteca Numpy 1\n",
    "Numpy (de Numerical Python) es la principal librería de  cálculo numérico de Python y el ecosistema de librerías  cientíﬁcas del lenguaje (como Pandas y Matplotlib)  recurre a Numpy para realizar sus operaciones.    \n",
    "Se basa en una estructura de datos multidimensional  llamada **array** y en una serie de funciones muy  optimizadas para su manipulación, incluyendo  operaciones matemáticas, lógicas, de selección y  ordenamiento, operaciones estadísticas, álgebra lineal  y más."
   ]
  },
  {
   "cell_type": "markdown",
   "id": "466dd284",
   "metadata": {},
   "source": [
    "# 1.1. Array\n",
    "El array (o ndarray) es la estructura que permite  acelerar las operaciones matemáticas en Python, sin  la necesidad de recurrir a bucles para operar con  todos sus elementos, lo que se llama **vectorización**.     \n",
    "El array es una estructura de datos mucho más  optimizada que la lista, pero a cambio presenta  menos ﬂexibilidad.     \n",
    "El array sólo admite elementos  de un **único tipo de dato** y **no se puede cambiar la  cantidad de elementos**.     \n",
    "Esto garantiza que siempre  ocupe el mismo espacio y todos sus elementos se  puedan representar en una sección continua de  memoria.    \n",
    "Es una estructura multidimensional, por lo que  permite representar vectores, matrices o arreglos  de más dimensiones."
   ]
  },
  {
   "cell_type": "markdown",
   "id": "4ea2b5dd",
   "metadata": {},
   "source": [
    "### 1.1.1. Atributos de un Array\n",
    "- **dtype**: el tipo de dato del array, en general numérico.\n",
    "- **size**: cantidad de elementos.\n",
    "- **nbytes**: total de bytes consumidos por los datos  (bytes del tipo de dato por la cantidada de elementos).\n",
    "- **ndim**: número de dimensiones.\n",
    "- **shape**: cantidad de elementos en cada dimensión."
   ]
  },
  {
   "cell_type": "code",
   "execution_count": 10,
   "id": "44cbe47c",
   "metadata": {},
   "outputs": [
    {
     "name": "stdout",
     "output_type": "stream",
     "text": [
      "<class 'numpy.ndarray'>\n"
     ]
    },
    {
     "data": {
      "text/plain": [
       "dtype('int32')"
      ]
     },
     "execution_count": 10,
     "metadata": {},
     "output_type": "execute_result"
    }
   ],
   "source": [
    "a = np.array([1, 2, 3])\n",
    "print(type(a))\n",
    "a.dtype"
   ]
  },
  {
   "cell_type": "code",
   "execution_count": 12,
   "id": "6c837657",
   "metadata": {},
   "outputs": [
    {
     "name": "stdout",
     "output_type": "stream",
     "text": [
      "[[4 5 6]\n",
      " [7 8 9]]\n",
      "[[4 7]\n",
      " [5 8]\n",
      " [6 9]]\n",
      "3\n",
      "6\n",
      "12\n",
      "24\n",
      "int32\n",
      "int32\n",
      "(3,)\n",
      "(2, 3)\n",
      "1\n",
      "2\n"
     ]
    }
   ],
   "source": [
    "b = np.array([[4, 5, 6], [7, 8, 9]])\n",
    "print(b)\n",
    "# Obtenemos la transposicion de b\n",
    "print(b.T)\n",
    "\n",
    "# Cantidad de elementos\n",
    "print(a.size)\n",
    "print(b.size)\n",
    "\n",
    "# Cuantos bytes hay en a y b\n",
    "print(a.nbytes)\n",
    "print(b.nbytes)\n",
    "\n",
    "# Tipos de datos\n",
    "print(a.dtype)\n",
    "print(b.dtype)\n",
    "\n",
    "# Tipos de shape(filas, columnas)\n",
    "print(a.shape)\n",
    "print(b.shape)\n",
    "\n",
    "\n",
    "# Dimension \n",
    "print(a.ndim)\n",
    "print(b.ndim)"
   ]
  },
  {
   "cell_type": "markdown",
   "id": "e7ed53d0",
   "metadata": {},
   "source": [
    "### 1.1.2. Creacion de un Array\n",
    "Hay muchas formas de crear arrays. A través de la función **np.array**  se pueden usar secuencias como listas (que pueden estar anidadas  para representar arreglos multidimensionales). Podemos pasar el  parámetro dtype para forzar a representar los datos en un tipo  determinado. Si no se pasa, la función tratará de inferirlo."
   ]
  },
  {
   "cell_type": "code",
   "execution_count": 13,
   "id": "1ccb8963",
   "metadata": {},
   "outputs": [
    {
     "name": "stdout",
     "output_type": "stream",
     "text": [
      "[1 2 3 4 5] int32 20\n",
      "_________________________________\n",
      "[1. 2. 3. 4. 5.] float64 40\n",
      "_________________________________\n",
      "[1 2 3 4 5] int8 5\n"
     ]
    }
   ],
   "source": [
    "arr1 =np.array([1,2,3,4,5])\n",
    "print(arr1, arr1.dtype, arr1.nbytes)\n",
    "print('_________________________________')\n",
    "arr2 =np.array([1,2,3,4,5], dtype = np.float64)\n",
    "print(arr2, arr2.dtype, arr2.nbytes)\n",
    "print('_________________________________')\n",
    "arr3 =np.array([1,2,3,4,5], dtype = np.int8)\n",
    "print(arr3, arr3.dtype, arr3.nbytes)"
   ]
  },
  {
   "cell_type": "markdown",
   "id": "1808a912",
   "metadata": {},
   "source": [
    "Podemos armar un array de dos dimensiones con listas anidadas,  siempre y cuando todas tengan la misma cantidad de elementos."
   ]
  },
  {
   "cell_type": "code",
   "execution_count": 14,
   "id": "dede008c",
   "metadata": {},
   "outputs": [
    {
     "name": "stdout",
     "output_type": "stream",
     "text": [
      "[[ 1  2  3  4]\n",
      " [ 4  5  6  7]\n",
      " [ 8  9 10 11]]\n",
      "ndim: 2 - shape: (3, 4)\n"
     ]
    }
   ],
   "source": [
    "arr = np.array([[1,2,3,4], [4,5,6,7], [8,9,10,11]])\n",
    "print(arr)\n",
    "print('ndim:', arr.ndim, '- shape:', arr.shape)"
   ]
  },
  {
   "cell_type": "markdown",
   "id": "43e0e7a8",
   "metadata": {},
   "source": [
    "Además hay numerosas funciones para crear arrays:\n",
    "- **arange** y **linspace** para rangos de números equiespaciados.\n",
    "- **zeros**, **ones** y **full** para arrays de cualquier dimensión y forma.\n",
    "- **identity**, **eye** y **diagonal** para arrays de 2 dimensiones.    \n",
    "El módulo **random** permite crear arrays con distintas  distribuciones de números al azar.\n",
    "Las funciones loadtxt y genfromtxt permiten leer archivos de  texto tipo csv.\n",
    "Tener en cuenta especiﬁcar el tipo de dato y el shape cuando sea  necesario."
   ]
  },
  {
   "cell_type": "code",
   "execution_count": 15,
   "id": "8dad18c3",
   "metadata": {},
   "outputs": [
    {
     "data": {
      "text/plain": [
       "array([[0, 0, 0],\n",
       "       [0, 0, 0],\n",
       "       [0, 0, 0],\n",
       "       [0, 0, 0]])"
      ]
     },
     "execution_count": 15,
     "metadata": {},
     "output_type": "execute_result"
    }
   ],
   "source": [
    "# zeros\n",
    "# El dtype es float64 por defecto, pero puede ser asignado con cualquier tipo de datos en NumPy.\n",
    "#np.zeros(5)\n",
    "#np.zeros((5), dtype=int)\n",
    "np.zeros((4,3),dtype=int)"
   ]
  },
  {
   "cell_type": "code",
   "execution_count": 16,
   "id": "71eb2f22",
   "metadata": {},
   "outputs": [
    {
     "data": {
      "text/plain": [
       "array([[1., 1., 1.],\n",
       "       [1., 1., 1.],\n",
       "       [1., 1., 1.],\n",
       "       [1., 1., 1.]])"
      ]
     },
     "execution_count": 16,
     "metadata": {},
     "output_type": "execute_result"
    }
   ],
   "source": [
    "# Ones\n",
    "# El dtype es float64 por defecto, pero puede ser asignado con cualquier tipo de datos en NumPy.\n",
    "np.ones(5)\n",
    "np.ones((5), dtype=int)\n",
    "np.ones((4,3))"
   ]
  },
  {
   "cell_type": "code",
   "execution_count": 18,
   "id": "95aebffb",
   "metadata": {},
   "outputs": [
    {
     "data": {
      "text/plain": [
       "array([ 6,  8, 10, 12, 14, 16, 18])"
      ]
     },
     "execution_count": 18,
     "metadata": {},
     "output_type": "execute_result"
    }
   ],
   "source": [
    "# np.arange\n",
    "np.arange(10)\n",
    "np.arange(6,20,2)"
   ]
  },
  {
   "cell_type": "code",
   "execution_count": 19,
   "id": "f2e36f4e",
   "metadata": {},
   "outputs": [
    {
     "data": {
      "text/plain": [
       "array([[5, 5, 5],\n",
       "       [5, 5, 5],\n",
       "       [5, 5, 5],\n",
       "       [5, 5, 5]])"
      ]
     },
     "execution_count": 19,
     "metadata": {},
     "output_type": "execute_result"
    }
   ],
   "source": [
    "# np.full\n",
    "np.full((4, 3), 5)"
   ]
  },
  {
   "cell_type": "code",
   "execution_count": 20,
   "id": "a6411063",
   "metadata": {},
   "outputs": [
    {
     "data": {
      "text/plain": [
       "array([[4, 4, 2, 4],\n",
       "       [4, 1, 0, 1]])"
      ]
     },
     "execution_count": 20,
     "metadata": {},
     "output_type": "execute_result"
    }
   ],
   "source": [
    "np.random.randint(5, size=(2, 4))"
   ]
  },
  {
   "cell_type": "code",
   "execution_count": null,
   "id": "0c59af7b",
   "metadata": {},
   "outputs": [],
   "source": []
  }
 ],
 "metadata": {
  "kernelspec": {
   "display_name": "Python 3 (ipykernel)",
   "language": "python",
   "name": "python3"
  },
  "language_info": {
   "codemirror_mode": {
    "name": "ipython",
    "version": 3
   },
   "file_extension": ".py",
   "mimetype": "text/x-python",
   "name": "python",
   "nbconvert_exporter": "python",
   "pygments_lexer": "ipython3",
   "version": "3.10.9"
  }
 },
 "nbformat": 4,
 "nbformat_minor": 5
}
