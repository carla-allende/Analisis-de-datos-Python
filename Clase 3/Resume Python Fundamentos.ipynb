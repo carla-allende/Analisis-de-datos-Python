{
 "cells": [
  {
   "cell_type": "markdown",
   "id": "5a76815c",
   "metadata": {},
   "source": [
    "# MODULO 1.-"
   ]
  },
  {
   "cell_type": "markdown",
   "id": "24c7c198",
   "metadata": {},
   "source": [
    "# 1. Operadores"
   ]
  },
  {
   "cell_type": "markdown",
   "id": "ca8c6e28",
   "metadata": {},
   "source": [
    "## 1.1. Operadores aritméticos\n",
    "Estas cuatro operaciones aritméticas retornan un entero  \n",
    "cuando los dos objetos sobre los que actúan son enteros.  \n",
    "Si alguno de ellos es un número de coma flotante, o bien  ambos, \n",
    "el resultado es un número de coma flotante. \n",
    "\n",
    "De  esto se sigue que pi - pi retorne 0.0 (un número de coma  flotante) y no 0 (un número entero)."
   ]
  },
  {
   "cell_type": "code",
   "execution_count": null,
   "id": "ce6e706f",
   "metadata": {},
   "outputs": [],
   "source": [
    "# +\tSuma los valores de tipo numérico\t\n",
    "print(5+2)\n",
    "# –\tResta los valores de tipo numérico\t\n",
    "print(5-2)\n",
    "\n",
    "# – Asigna un valor negativo a un dato numérico\t\n",
    "print(-5)\n",
    "\n",
    "# *\tMultiplica los valores de tipo numérico\t\n",
    "print(5*2)\n",
    "\n",
    "# /\tDivide los valores de tipo numérico\t\n",
    "print(5/2)\n",
    "\n",
    "# %\tDevuelve el resto de la división entre los valores de tipo numérico\t\n",
    "print(5%2)\n",
    "\n",
    "#  //\tDevuelve el cociente de la división entre los valores de tipo numérico\t\n",
    "print(5//2)\n",
    "\n",
    "# **\tCalcula el exponente entre valores de tipo numérico\n",
    "print(5**2)\n",
    "\n",
    "\n",
    "pi = 3.14\n",
    "print(pi-pi)"
   ]
  },
  {
   "cell_type": "markdown",
   "id": "756af515",
   "metadata": {},
   "source": [
    "## 1.2. Ejemplo Operaciones aritmeticas\n",
    "Dadas 2 variables: a = 20 y b = 10, mostrar por pantalla su suma, resta, multiplicación y división."
   ]
  },
  {
   "cell_type": "code",
   "execution_count": null,
   "id": "116bd056",
   "metadata": {},
   "outputs": [],
   "source": [
    "a = 20\n",
    "b = 10\n",
    "\n",
    "suma = a + b\n",
    "resta = a - b\n",
    "multiplicacion = a * b\n",
    "division = a / b\n",
    "\n",
    "print(\"La suma es:\", suma)\n",
    "print(\"La resta es:\",resta)\n",
    "print(\"La multiplicación es:\", multiplicacion)\n",
    "print(\"La división es:\", division)"
   ]
  },
  {
   "cell_type": "markdown",
   "id": "68a4ae02",
   "metadata": {},
   "source": [
    "## 1.2. Operadores de Comparacion\n",
    "Son los que utilizamos para comparar dos valores. \n",
    "Devuelve un valor booleano (true o false) dependiendo de la condición."
   ]
  },
  {
   "cell_type": "code",
   "execution_count": null,
   "id": "379f3ca3",
   "metadata": {},
   "outputs": [],
   "source": [
    "# ==\tCompara los valores para ver si son iguales\t\n",
    "print(5==2)                               \n",
    "# != Compara los valores para ver si son distintos\t\n",
    "print(5!=2) \n",
    "\n",
    "# <\tCompara que el valor situado a la izquierda sea menor que el situado a la derecha\n",
    "print(5<2) \n",
    "\n",
    "# >\tCompara que el valor situado a la izquierda sea mayor que el situado a la derecha\t\n",
    "print(5>2)  \n",
    "\n",
    "# <= Compara que el valor situado a la izquierda sea menor o igual que el situado a la derecha\n",
    "print(5<=2) \n",
    "\n",
    "# >= Compara que el valor situado a la izquierda sea mayor o igual que el situado a la derecha\n",
    "print(5>=2) \n"
   ]
  },
  {
   "cell_type": "markdown",
   "id": "029bc1b4",
   "metadata": {},
   "source": [
    "Los operadores >, >=, < y <= sólo pueden aplicarse sobre  números enteros o de coma flotante; \n",
    "no obstante, los  operadores de igualdad y desigualdad permiten comparar indistintamente cualquiera de los cuatro tipos de dato  básicos "
   ]
  },
  {
   "cell_type": "code",
   "execution_count": null,
   "id": "857da729",
   "metadata": {},
   "outputs": [],
   "source": [
    "print(\"Hola mundo\" == 3.14) \n",
    "\n",
    "print(3.14 != True)\n",
    "\n",
    "print(\"Hola\" != \"mundo\")  \n"
   ]
  },
  {
   "cell_type": "markdown",
   "id": "53a024f6",
   "metadata": {},
   "source": [
    "## 1.3. Operadores Logicos (Booleanos)\n",
    "**and** Comprueba que el valor izquierdo y derecho se cumple\t\n",
    "True and False\n",
    "\n",
    "**or** Comprueba que el valor izquierdo o el derecho se cumple  \n",
    "True or False\n",
    "\n",
    "**not** Devuelve el valor contrario al valor booleano\t\n",
    "not True"
   ]
  },
  {
   "cell_type": "code",
   "execution_count": null,
   "id": "0bfd34ea",
   "metadata": {},
   "outputs": [],
   "source": [
    "#and\n",
    "True and False\n",
    "\n",
    "#or\n",
    "True or False\n",
    "\n",
    "#not\n",
    "not True"
   ]
  },
  {
   "cell_type": "markdown",
   "id": "7d9d5275",
   "metadata": {},
   "source": [
    "## 1.4. Conjunción\n",
    "¿Cómo puedo determinar si a es mayor a 1 y  menor a 10, o, lo que es lo mismo, si a se  encuentra entre 1 y 10? \n",
    "Necesito combinar dos  operaciones de comparación.    \n",
    "La conjuncion nos permite  saber si ambas comparaciones son verdaderas"
   ]
  },
  {
   "cell_type": "code",
   "execution_count": null,
   "id": "f4f40992",
   "metadata": {},
   "outputs": [],
   "source": [
    "a = 5\n",
    "a > 1 and a < 10"
   ]
  },
  {
   "cell_type": "markdown",
   "id": "38144954",
   "metadata": {},
   "source": [
    "## 1.5. Disyunción\n",
    "La disyunción nos permite  saber si alguna de dos comparaciones es verdadera"
   ]
  },
  {
   "cell_type": "code",
   "execution_count": null,
   "id": "a1562fc3",
   "metadata": {},
   "outputs": [],
   "source": [
    "a = 5\n",
    "a == 1 or a == 10\n"
   ]
  },
  {
   "cell_type": "markdown",
   "id": "dbb39cf4",
   "metadata": {},
   "source": [
    "## 1.6 Negación\n",
    "La negación, que ejecutamos con la palabra  reservada not, invierte el valor lógico de un  booleano."
   ]
  },
  {
   "cell_type": "code",
   "execution_count": null,
   "id": "83130c4b",
   "metadata": {},
   "outputs": [],
   "source": [
    "not True  \n",
    "not False\n",
    "\n",
    "# Otros ejemplos, expresiones equivalentes\n",
    "\n",
    "pi != 3.14\n",
    "\n",
    "not pi == 3.14  "
   ]
  },
  {
   "cell_type": "markdown",
   "id": "541477bb",
   "metadata": {},
   "source": [
    "## 1.7. Operadores de Pertenencia\n",
    "En Python los operadores IN y NOT IN se llaman operadores  de pertenencia, se usan para  determinar si las variables se encuentran en una colección  (lista, tupla y diccionario) o no.   \n",
    "**in**: devuelve True cuando el valor está presente en la  secuencia.   \n",
    "**not in**: devuelve True cuando el valor no está presente  en la secuencia."
   ]
  },
  {
   "cell_type": "code",
   "execution_count": null,
   "id": "7bdb6720",
   "metadata": {},
   "outputs": [],
   "source": [
    "# En las listas se pregunta directamente  por el elemento(item).\n",
    "\n",
    "nombres = [\"Juan\",\"Tomas\",\"Susana\"]\n",
    "\n",
    "\"Susana\" in nombres  \n",
    "\n",
    "\"Alejandro\" in nombres  \n",
    "\n",
    "# En los diccionarios se pregunta por el key.\n",
    "\n",
    "alumnos = {\"Juan\":5,\"Florencia\":10,\"Horacio\":1}\n",
    "\n",
    "\"Juan\" in alumnos  \n",
    "\n",
    "\"Victoria\" in alumnos  \n",
    "\n",
    "\"Florencia\" not in alumnos  \n",
    "\n",
    "\"Esteban\" not in alumnos  \n"
   ]
  },
  {
   "cell_type": "markdown",
   "id": "1a4c576a",
   "metadata": {},
   "source": [
    "## 1.8. Operadores de Identidad\n",
    "Los operadores de identidad **is** e **is not** permiten evaluar  si los operandos son el mismo objeto en la memoria, lo que  internamente se determina usando la función **id()**.     \n",
    "Esto es útil para saber si dos variables apuntan al mismo  objeto en la memoria o no, ya que el operador **==** sólo  compara si los operandos, que pueden ser objetos distintos,  tienen el mismo valor o no.\n"
   ]
  },
  {
   "cell_type": "code",
   "execution_count": null,
   "id": "a1d2999e",
   "metadata": {},
   "outputs": [],
   "source": [
    "lista1 = [1,2,3]\n",
    "lista2 = lista1\n",
    "print(lista1 == lista2, lista1 is lista2)\n",
    "print()\n",
    "lista1 = lista1.copy()\n",
    "print(lista1 == lista2, lista1 is lista2)"
   ]
  },
  {
   "cell_type": "markdown",
   "id": "468b8e67",
   "metadata": {},
   "source": [
    "## 2. Funciones incorporadas\n",
    "Python tiene una variedad de funciones incorporadas  para realizar distintos tipos de tareas sin la necesidad  de importarlas.\n",
    "Algunas son para construir y convertir entre:\n",
    "\n",
    "distintos tipos de datos como: int(), float(), complex(),  bool(), str(), list(), tuple(), dict(),  set(), frozenset()     \n",
    "\n",
    "para trabajar con números: round(), abs(), divmod())\n",
    "\n",
    "colecciones: len(), min(), max(), sorted(), reversed(), map(),  filter()  \n",
    "\n",
    "con el bucle for: range(), enumerate(), zip()\n",
    "\n",
    "Esto le da gran ﬂexibilidad al lenguaje.\n"
   ]
  },
  {
   "cell_type": "markdown",
   "id": "2879d0f9",
   "metadata": {},
   "source": [
    "## 3. Métodos\n",
    "También se dispone de métodos para realizar acciones  sobre tipos de dato en particular. Por ejemplo, para  listas tenemos los métodos append, insert, copy,  pop, extend, etc. Distintos tipos de datos implementan  distintos métodos, extendiendo las funcionalidades\n",
    "del lenguaje.\n",
    "Para ver los métodos disponibles para un objeto en  Jupyter Notebook sólo hay que tipear el nombre de la  variable que referencia al objeto seguido de un punto y  luego apretar Tab. Se muestra una lista con los métodos  disponibles."
   ]
  },
  {
   "cell_type": "code",
   "execution_count": 2,
   "id": "dcdc3ce6",
   "metadata": {},
   "outputs": [],
   "source": [
    "num = 1\n",
    "lista = [1,2,3]\n",
    "dicc = {'A': 3, 'B': 7}\n",
    "conj = {1,2,3,}"
   ]
  },
  {
   "cell_type": "markdown",
   "id": "e59bfe6c",
   "metadata": {},
   "source": [
    "https://empresas.blogthinkbig.com/python-para-todos-metodo-vs-funcion/\n",
    "\n"
   ]
  },
  {
   "cell_type": "code",
   "execution_count": null,
   "id": "81dc81f4",
   "metadata": {},
   "outputs": [],
   "source": [
    "#num.\n",
    "#lista.\n",
    "#dicc.\n",
    "#conj.\n"
   ]
  },
  {
   "cell_type": "markdown",
   "id": "ed2629a1",
   "metadata": {},
   "source": [
    "## 3. Estructuras de control de flujo\n",
    "Las estructuras de control permiten controlar el ﬂujo  de ejecución de un programa, que de otro modo es de  arriba hacia abajo. Las más básicas son el condicional  y los bucles, aunque funciones y clases también son  estructuras de control.\n",
    "Las instrucciones que pertenecen al bloque de código  de la estructura se indica con sangría. Estas estructuras  se pueden combinar de diversas maneras y anidar unas  dentro de otras para obtener el resultado deseado."
   ]
  },
  {
   "cell_type": "markdown",
   "id": "ae62f4d1",
   "metadata": {},
   "source": [
    "## 3.1.Condicional\n",
    "Permite decidir si se ejecuta un bloque de código o  no en base a una condición. Se utilizan las palabras  **if**, **elif** y **else** en distintas combinaciones. \n"
   ]
  },
  {
   "cell_type": "code",
   "execution_count": null,
   "id": "6269d2a0",
   "metadata": {},
   "outputs": [],
   "source": [
    "a = 12\n",
    "if a > 10:\n",
    "\tprint(\"a es mayor que 10.\")  \n",
    "else:\n",
    "\tprint(\"a es menor o igual que 10.\")"
   ]
  },
  {
   "cell_type": "code",
   "execution_count": null,
   "id": "5962f941",
   "metadata": {},
   "outputs": [],
   "source": [
    "a = 5\n",
    "if a == 1:\n",
    "\tprint(\"a es 1.\")  \n",
    "elif a == 2:\n",
    "\tprint(\"a es 2.\")\n",
    "elif a > 2 and a < 10:\n",
    "\tprint(\"a es mayor que 2 y menor que 10.\")  \n",
    "else:\n",
    "\tprint(\"a es mayor o igual que 10.\")"
   ]
  },
  {
   "cell_type": "markdown",
   "id": "78d6d176",
   "metadata": {},
   "source": [
    "## 3.2. Bucle While\n",
    "El bucle while es un bucle condicional que  ejecuta un bloque de código siempre que la  condición se evalúe a True.\n",
    "Remarquemos que la condición puede ser  cualquier expresión, cuyo resultado se va a  convertir a booleano. "
   ]
  },
  {
   "cell_type": "code",
   "execution_count": null,
   "id": "f477005b",
   "metadata": {},
   "outputs": [],
   "source": [
    "n = 0\n",
    "while n < 5:\n",
    "    print(n)\n",
    "    n = n + 1"
   ]
  },
  {
   "cell_type": "code",
   "execution_count": null,
   "id": "7949e20e",
   "metadata": {},
   "outputs": [],
   "source": [
    "\n",
    "numero = int(input(\"Escriba un número positivo: \"))\n",
    "while numero < 0:\n",
    "    print(\"¡Ha escrito un número negativo! Inténtelo de nuevo\")\n",
    "    numero = int(input(\"Escriba un número positivo: \"))\n",
    "print(\"Gracias por su colaboración\")\n"
   ]
  },
  {
   "cell_type": "markdown",
   "id": "a2527cd2",
   "metadata": {},
   "source": [
    "## 3.3. Bucle For\n",
    "El bucle for permite iterar sobre cada uno de los elementos  de un iterable, como una lista, por ejemplo. El bucle recorre  cada elemento y lo asigna a una variable deﬁnida en el  propio bucle. Así, podemos hacer uso del elemento  reﬁriéndonos a la variable.\n"
   ]
  },
  {
   "cell_type": "code",
   "execution_count": null,
   "id": "e29ad4cc",
   "metadata": {},
   "outputs": [],
   "source": [
    "alumnos = [\"Matias\", \"Jorge\", \"Martin\", \"Pablo\"]\n",
    "for alumno in alumnos:\n",
    "    print(alumno)"
   ]
  },
  {
   "cell_type": "code",
   "execution_count": null,
   "id": "8bb13cc3",
   "metadata": {},
   "outputs": [],
   "source": [
    "dicc = {'A': 1,'B': 2, 'C': 3, 'D': 4 }\n",
    "for i in dicc:\n",
    "    print(i)\n",
    "    print(dicc[i])"
   ]
  },
  {
   "cell_type": "markdown",
   "id": "a8625f3e",
   "metadata": {},
   "source": [
    "## 3.4. Listas por comprensión\n",
    "Existe una sintaxis que permite crear listas de una forma  muy concisa: listas por comprensión.    \n",
    "Consiste en  especiﬁcar los elementos que va a contener la lista en la  propia deﬁnición de la lista.\n",
    "Consiste en colocar dentro de los corchetes una expresión  y una cláusula for (que puede o no estar seguida de más  cláusulas for o un if).         \n",
    "Se usa para generar elementos que siguen un patrón o  aplicar transformaciones a los elementos de otra secuencia.\n"
   ]
  },
  {
   "cell_type": "code",
   "execution_count": 4,
   "id": "e23ef5bd",
   "metadata": {},
   "outputs": [
    {
     "data": {
      "text/plain": [
       "[0, 1, 4, 9, 16, 25, 36, 49, 64, 81, 100, 121]"
      ]
     },
     "execution_count": 4,
     "metadata": {},
     "output_type": "execute_result"
    }
   ],
   "source": [
    "[i ** 2 for i in range(12)]\n",
    "\n"
   ]
  },
  {
   "cell_type": "code",
   "execution_count": null,
   "id": "4278b88e",
   "metadata": {},
   "outputs": [],
   "source": [
    "palabras = ['hola', 'mundo', 'python']\n",
    "mayusculas = [st.upper() for st in palabras]\n",
    "mayusculas"
   ]
  },
  {
   "cell_type": "code",
   "execution_count": null,
   "id": "38c78ec7",
   "metadata": {},
   "outputs": [],
   "source": [
    "numeros = [14, 5, 4, 10, 15, 4, 7, 6, 3, 9, 71]\n",
    "pares = [num for num in numeros if num%2 == 0]\n",
    "pares"
   ]
  },
  {
   "cell_type": "markdown",
   "id": "fd9cdcee",
   "metadata": {},
   "source": [
    "# MODULO 2"
   ]
  },
  {
   "cell_type": "markdown",
   "id": "f48edc27",
   "metadata": {},
   "source": [
    "# 1. Funciones"
   ]
  },
  {
   "cell_type": "markdown",
   "id": "059e0abd",
   "metadata": {},
   "source": [
    "## 1.1. Definicion\n",
    "Las funciones nos permiten agrupar una o más líneas de código bajo\n",
    "un mismo nombre. Su objetivo principal es el de evitar la repetición\n",
    "de código, haciendo de un archivo de código de fuente más claro,\n",
    "legible y fácil de mantener.    \n",
    "Para deﬁnir una función se utiliza la palabra  reservada **def**. Las reglas para nombrar funciones  son las mismas que para las variables. Entre  paréntesis va la lista de parámetros y luego de los  dos puntos \"**:**\", va el bloque de código que constituye el  cuerpo de la función.    \n",
    "Este bloque puede contener la palabra reservada  **return** que indica el valor de retorno de la función.    \n",
    "Estrictamente hablando, la función devuelve una  referencia al objeto que señale con la palabra la  palabra return. Si luego de esta palabra no se  señala ningún objeto o la función no ejecuta ningún  return, entonces se devuelve None.\n",
    "\n"
   ]
  },
  {
   "cell_type": "code",
   "execution_count": null,
   "id": "4811df30",
   "metadata": {},
   "outputs": [],
   "source": [
    "print(\"¡Hola mundo!\")\n",
    "print(\"Desde Python.\")\n",
    "a = 5\n",
    "b = 7\n",
    "c = a * b\n",
    "print(c)\n",
    "print(\"¡Hola mundo!\")\n",
    "print(\"Desde Python.\")"
   ]
  },
  {
   "cell_type": "code",
   "execution_count": null,
   "id": "8b147262",
   "metadata": {},
   "outputs": [],
   "source": [
    "# Definimos la funcion \n",
    "def mi_funcion():\n",
    "    print(\"¡Hola mundo!\")\n",
    "    print(\"Desde Python.\")\n",
    "\n",
    "# Ahora que tenemos esta función, en los lugares donde hacíamos uso de esas dos líneas simplemente pondremos mi_funcion() .\n",
    "# Para que se ejecute la funcion lo unico que tenemos que hacer es invocarla \n",
    "\n",
    "mi_funcion()\n",
    "a = 5\n",
    "b = 7\n",
    "c = a * b\n",
    "print(c)\n",
    "mi_funcion()\n"
   ]
  },
  {
   "cell_type": "markdown",
   "id": "7de7ff1f",
   "metadata": {},
   "source": [
    "## 1.2. Argumentos\n",
    "A una función se le puede pasar información  en forma de argumentos. Estos se deﬁnen  entre los paréntesis que siguen al nombre  de la función en la deﬁnición y pueden ser  tantos como se necesiten.    \n",
    "Se pueden deﬁnir argumentos de distinto tipo.  Los **argumentos posicionales** son aquellos que  necesariamente hay que incluir en la llamada a la  función, mientras que los **keyword arguments**  son aquellos que tienen un valor por defecto en la  deﬁnición de la función y no necesariamente hay  que pasarlos a la hora de ejecutar la función.\n",
    "Cuando una función tiene los dos tipos de  parámetros, hay que colocar los posicionales  antes de los keyword arguments.\n"
   ]
  },
  {
   "cell_type": "code",
   "execution_count": null,
   "id": "d29ee194",
   "metadata": {},
   "outputs": [],
   "source": [
    "# Argumento posicional\n",
    "def f(x):\n",
    "    return 4 * x ** 2\n",
    "print(f(2))"
   ]
  },
  {
   "cell_type": "code",
   "execution_count": null,
   "id": "0b9bed96",
   "metadata": {},
   "outputs": [],
   "source": [
    "# Argumento Keyword\n",
    "def f(x, a = 4):\n",
    "    return a * x ** 2\n",
    "print(f(2))\n",
    "print(f(2,1))"
   ]
  },
  {
   "cell_type": "code",
   "execution_count": null,
   "id": "cfe489a8",
   "metadata": {},
   "outputs": [],
   "source": [
    "# Numero de argumentos variables\n",
    "def f(x, y, *args):\n",
    "    print(x)\n",
    "    print(y)\n",
    "    print(args)\n",
    "\n",
    "f(1,2,3,4,5)"
   ]
  },
  {
   "cell_type": "markdown",
   "id": "65bcf0f4",
   "metadata": {},
   "source": [
    "También es posible manejar un **número  arbitrario de keyword arguments**. Para eso  se utiliza el operador ** (usualmente asociado  al nombre kwargs). Este operador captura  cualquier keyword argument que no haya sido  deﬁnido junto con la función.\n"
   ]
  },
  {
   "cell_type": "code",
   "execution_count": null,
   "id": "d0c53277",
   "metadata": {},
   "outputs": [],
   "source": [
    "def f(x, y, *args, a=1, b=5, **kwargs):\n",
    "    print(x)\n",
    "    print(y)\n",
    "    print(args)\n",
    "    print(a)\n",
    "    print(b)\n",
    "    print(kwargs)\n",
    "    \n",
    "\n",
    "f(0,1) \n",
    "f(4, 'hola', 'mundo', [1,2,3], a=999, z=True, w=60)"
   ]
  },
  {
   "cell_type": "markdown",
   "id": "cd6b03d0",
   "metadata": {},
   "source": [
    "# 1.3. Funciones de Orden Superior\n",
    "Se entiende por funciones de orden superior a aquellas  funciones que toman a otras funciones como parámetros o  devuelven a una función. "
   ]
  },
  {
   "cell_type": "markdown",
   "id": "4f3f17af",
   "metadata": {},
   "source": [
    "## 1.3.1 Funcion map()\n"
   ]
  },
  {
   "cell_type": "code",
   "execution_count": 4,
   "id": "1b199294",
   "metadata": {},
   "outputs": [
    {
     "data": {
      "text/plain": [
       "[29, 89, 74, 61, 34]"
      ]
     },
     "execution_count": 4,
     "metadata": {},
     "output_type": "execute_result"
    }
   ],
   "source": [
    "def aplicar(funcion, lista):\n",
    "    resultado = []\n",
    "    for item in lista:\n",
    "        resultado.append(funcion(item))\n",
    "    return resultado\n",
    "\n",
    "def cuenta(x):\n",
    "    return x ** 2 + 25\n",
    "\n",
    "numeros = [2,8,7,6,3]\n",
    "aplicar(cuenta, numeros)\n",
    "\n"
   ]
  },
  {
   "cell_type": "markdown",
   "id": "59599481",
   "metadata": {},
   "source": [
    "Esta función retorna un generador. Esto signiﬁca  que sus elementos no son calculados hasta que  sea explícitamente requerido. Esto permite  almacenarlo en la colección que queramos o  iterar sobre sus elementos de forma eﬁciente.\n"
   ]
  },
  {
   "cell_type": "code",
   "execution_count": 5,
   "id": "456e8874",
   "metadata": {},
   "outputs": [
    {
     "data": {
      "text/plain": [
       "<map at 0x25fccf27a30>"
      ]
     },
     "execution_count": 5,
     "metadata": {},
     "output_type": "execute_result"
    }
   ],
   "source": [
    "def cuenta(x):\n",
    "    return x ** 2 + 25\n",
    "\n",
    "numeros = [2,8,7,6,3]\n",
    "map(cuenta, numeros)"
   ]
  },
  {
   "cell_type": "code",
   "execution_count": 6,
   "id": "2c2ec1f6",
   "metadata": {},
   "outputs": [
    {
     "data": {
      "text/plain": [
       "[29, 89, 74, 61, 34]"
      ]
     },
     "execution_count": 6,
     "metadata": {},
     "output_type": "execute_result"
    }
   ],
   "source": [
    "list(map(cuenta, numeros))"
   ]
  },
  {
   "cell_type": "code",
   "execution_count": 7,
   "id": "eabbb161",
   "metadata": {},
   "outputs": [
    {
     "data": {
      "text/plain": [
       "(29, 89, 74, 61, 34)"
      ]
     },
     "execution_count": 7,
     "metadata": {},
     "output_type": "execute_result"
    }
   ],
   "source": [
    "tuple(map(cuenta, numeros))"
   ]
  },
  {
   "cell_type": "markdown",
   "id": "d40ea196",
   "metadata": {},
   "source": [
    "## 1.3.2. Funcion filter()\n",
    "La función ﬁlter permite seleccionar elementos de  un iterable utilizando a otra función para decidir qué  elementos seleccionar. Esta función debe retornar  True o False y se seleccionan los elementos para los\n",
    "que se devuelve True, es decir, se ﬁltran los elementos  según el resultado de la función.    \n",
    "Al igual que map, ﬁlter devuelve un  generador que se puede convertir  a alguna colección o sobre el que  se puede iterar.\n",
    "\n"
   ]
  },
  {
   "cell_type": "code",
   "execution_count": 8,
   "id": "89c3d6d2",
   "metadata": {},
   "outputs": [
    {
     "data": {
      "text/plain": [
       "[2, 8, 6, 10, 24, 6, 8]"
      ]
     },
     "execution_count": 8,
     "metadata": {},
     "output_type": "execute_result"
    }
   ],
   "source": [
    "# Selecciona los elementos pares de la lista\n",
    "numeros = [2,8,7,6,3,10,24,6,8,9]\n",
    "\n",
    "def par(x):\n",
    "    return x % 2 == 0\n",
    "\n",
    "list(filter(par,numeros))\n"
   ]
  },
  {
   "cell_type": "code",
   "execution_count": 9,
   "id": "ae7a7cb4",
   "metadata": {},
   "outputs": [
    {
     "data": {
      "text/plain": [
       "[29, 89, 61, 125, 601, 61, 89]"
      ]
     },
     "execution_count": 9,
     "metadata": {},
     "output_type": "execute_result"
    }
   ],
   "source": [
    "# Combinando map() y filter()\n",
    "\n",
    "list(map(cuenta, filter(par,numeros)))"
   ]
  },
  {
   "cell_type": "markdown",
   "id": "d0ba695b",
   "metadata": {},
   "source": [
    "## 1.3.3. Funciones Anonimas\n",
    "Python permite deﬁnir pequeñas funciones sin nombre: las  funciones **anónimas o lambda**.    \n",
    "Estas funciones no tienen  nombre y su cuerpo está limitado a una única expresión. Para  deﬁnirlas se utiliza la palabra reservada ***lambda*** seguida de los  parámetros que tome la función y luego de los dos puntos  sigue la expresión a evaluar y devolver. A continuación, algunos  ejemplos de funciones ordinarias y las lambda equivalentes.\n"
   ]
  },
  {
   "cell_type": "code",
   "execution_count": null,
   "id": "fe0dfa7d",
   "metadata": {},
   "outputs": [],
   "source": [
    "def cuenta(x):\n",
    "    return x ** 2 + 25\n",
    "list(map(cuenta, numeros))\n",
    "\n",
    "# Con lambda\n",
    "list(map(lambda x:x ** 2 + 25 , numeros))"
   ]
  },
  {
   "cell_type": "code",
   "execution_count": null,
   "id": "8f8c5a44",
   "metadata": {},
   "outputs": [],
   "source": [
    "nombres = ['jUAN', ' carolina ', 'RAUL', '   FlaVIA']\n",
    "list(map(lambda x: x.strip().capitalize(),nombres))"
   ]
  },
  {
   "cell_type": "code",
   "execution_count": null,
   "id": "601fee9c",
   "metadata": {},
   "outputs": [],
   "source": []
  }
 ],
 "metadata": {
  "kernelspec": {
   "display_name": "Python 3 (ipykernel)",
   "language": "python",
   "name": "python3"
  },
  "language_info": {
   "codemirror_mode": {
    "name": "ipython",
    "version": 3
   },
   "file_extension": ".py",
   "mimetype": "text/x-python",
   "name": "python",
   "nbconvert_exporter": "python",
   "pygments_lexer": "ipython3",
   "version": "3.10.9"
  }
 },
 "nbformat": 4,
 "nbformat_minor": 5
}
