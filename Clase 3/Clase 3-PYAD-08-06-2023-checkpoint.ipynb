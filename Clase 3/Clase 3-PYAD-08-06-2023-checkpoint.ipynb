{
 "cells": [
  {
   "cell_type": "markdown",
   "id": "97a0be09",
   "metadata": {},
   "source": [
    "# Analisis de Datos con Python - Clase 3\n",
    "\n",
    "[Material Complementario](https://1drv.ms/f/s!Anh5cvrOJtUTlPZnUCQ9UDEpjh1Gtg?e=P6Qlu9)"
   ]
  },
  {
   "cell_type": "code",
   "execution_count": 5,
   "id": "501b25d9",
   "metadata": {},
   "outputs": [
    {
     "name": "stderr",
     "output_type": "stream",
     "text": [
      "\"[image]\" no se reconoce como un comando interno o externo,\n",
      "programa o archivo por lotes ejecutable.\n"
     ]
    }
   ],
   "source": [
    "![image](numpy.png) "
   ]
  },
  {
   "cell_type": "code",
   "execution_count": 7,
   "id": "11ddfdf9",
   "metadata": {},
   "outputs": [],
   "source": [
    "import numpy as np"
   ]
  },
  {
   "cell_type": "markdown",
   "id": "d3531c90",
   "metadata": {},
   "source": [
    "# MODULO 3 - Biblioteca Numpy 1\n",
    "Numpy (de Numerical Python) es la principal librería de  cálculo numérico de Python y el ecosistema de librerías  cientíﬁcas del lenguaje (como Pandas y Matplotlib)  recurre a Numpy para realizar sus operaciones.    \n",
    "Se basa en una estructura de datos multidimensional  llamada **array** y en una serie de funciones muy  optimizadas para su manipulación, incluyendo  operaciones matemáticas, lógicas, de selección y  ordenamiento, operaciones estadísticas, álgebra lineal  y más."
   ]
  },
  {
   "cell_type": "markdown",
   "id": "466dd284",
   "metadata": {},
   "source": [
    "# 1.1. Array\n",
    "El array (o ndarray) es la estructura que permite  acelerar las operaciones matemáticas en Python, sin  la necesidad de recurrir a bucles para operar con  todos sus elementos, lo que se llama **vectorización**.     \n",
    "El array es una estructura de datos mucho más  optimizada que la lista, pero a cambio presenta  menos ﬂexibilidad.     \n",
    "El array sólo admite elementos  de un **único tipo de dato** y **no se puede cambiar la  cantidad de elementos**.     \n",
    "Esto garantiza que siempre  ocupe el mismo espacio y todos sus elementos se  puedan representar en una sección continua de  memoria.    \n",
    "Es una estructura multidimensional, por lo que  permite representar vectores, matrices o arreglos  de más dimensiones."
   ]
  },
  {
   "cell_type": "markdown",
   "id": "4ea2b5dd",
   "metadata": {},
   "source": [
    "### 1.1.1. Atributos de un Array\n",
    "- **dtype**: el tipo de dato del array, en general numérico.\n",
    "- **size**: cantidad de elementos.\n",
    "- **nbytes**: total de bytes consumidos por los datos  (bytes del tipo de dato por la cantidada de elementos).\n",
    "- **ndim**: número de dimensiones.\n",
    "- **shape**: cantidad de elementos en cada dimensión."
   ]
  },
  {
   "cell_type": "code",
   "execution_count": 10,
   "id": "44cbe47c",
   "metadata": {},
   "outputs": [
    {
     "name": "stdout",
     "output_type": "stream",
     "text": [
      "<class 'numpy.ndarray'>\n"
     ]
    },
    {
     "data": {
      "text/plain": [
       "dtype('int32')"
      ]
     },
     "execution_count": 10,
     "metadata": {},
     "output_type": "execute_result"
    }
   ],
   "source": [
    "a = np.array([1, 2, 3])\n",
    "print(type(a))\n",
    "a.dtype"
   ]
  },
  {
   "cell_type": "code",
   "execution_count": 12,
   "id": "6c837657",
   "metadata": {},
   "outputs": [
    {
     "name": "stdout",
     "output_type": "stream",
     "text": [
      "[[4 5 6]\n",
      " [7 8 9]]\n",
      "[[4 7]\n",
      " [5 8]\n",
      " [6 9]]\n",
      "3\n",
      "6\n",
      "12\n",
      "24\n",
      "int32\n",
      "int32\n",
      "(3,)\n",
      "(2, 3)\n",
      "1\n",
      "2\n"
     ]
    }
   ],
   "source": [
    "b = np.array([[4, 5, 6], [7, 8, 9]])\n",
    "print(b)\n",
    "# Obtenemos la transposicion de b\n",
    "print(b.T)\n",
    "\n",
    "# Cantidad de elementos\n",
    "print(a.size)\n",
    "print(b.size)\n",
    "\n",
    "# Cuantos bytes hay en a y b\n",
    "print(a.nbytes)\n",
    "print(b.nbytes)\n",
    "\n",
    "# Tipos de datos\n",
    "print(a.dtype)\n",
    "print(b.dtype)\n",
    "\n",
    "# Tipos de shape(filas, columnas)\n",
    "print(a.shape)\n",
    "print(b.shape)\n",
    "\n",
    "\n",
    "# Dimension \n",
    "print(a.ndim)\n",
    "print(b.ndim)"
   ]
  },
  {
   "cell_type": "markdown",
   "id": "e7ed53d0",
   "metadata": {},
   "source": [
    "### 1.1.2. Creacion de un Array\n",
    "Hay muchas formas de crear arrays. A través de la función **np.array**  se pueden usar secuencias como listas (que pueden estar anidadas  para representar arreglos multidimensionales). Podemos pasar el  parámetro dtype para forzar a representar los datos en un tipo  determinado. Si no se pasa, la función tratará de inferirlo."
   ]
  },
  {
   "cell_type": "code",
   "execution_count": 13,
   "id": "1ccb8963",
   "metadata": {},
   "outputs": [
    {
     "name": "stdout",
     "output_type": "stream",
     "text": [
      "[1 2 3 4 5] int32 20\n",
      "_________________________________\n",
      "[1. 2. 3. 4. 5.] float64 40\n",
      "_________________________________\n",
      "[1 2 3 4 5] int8 5\n"
     ]
    }
   ],
   "source": [
    "arr1 =np.array([1,2,3,4,5])\n",
    "print(arr1, arr1.dtype, arr1.nbytes)\n",
    "print('_________________________________')\n",
    "arr2 =np.array([1,2,3,4,5], dtype = np.float64)\n",
    "print(arr2, arr2.dtype, arr2.nbytes)\n",
    "print('_________________________________')\n",
    "arr3 =np.array([1,2,3,4,5], dtype = np.int8)\n",
    "print(arr3, arr3.dtype, arr3.nbytes)"
   ]
  },
  {
   "cell_type": "markdown",
   "id": "1808a912",
   "metadata": {},
   "source": [
    "Podemos armar un array de dos dimensiones con listas anidadas,  siempre y cuando todas tengan la misma cantidad de elementos."
   ]
  },
  {
   "cell_type": "code",
   "execution_count": 14,
   "id": "dede008c",
   "metadata": {},
   "outputs": [
    {
     "name": "stdout",
     "output_type": "stream",
     "text": [
      "[[ 1  2  3  4]\n",
      " [ 4  5  6  7]\n",
      " [ 8  9 10 11]]\n",
      "ndim: 2 - shape: (3, 4)\n"
     ]
    }
   ],
   "source": [
    "arr = np.array([[1,2,3,4], [4,5,6,7], [8,9,10,11]])\n",
    "print(arr)\n",
    "print('ndim:', arr.ndim, '- shape:', arr.shape)"
   ]
  },
  {
   "cell_type": "markdown",
   "id": "43e0e7a8",
   "metadata": {},
   "source": [
    "Además hay numerosas funciones para crear arrays:\n",
    "- **arange** y **linspace** para rangos de números equiespaciados.\n",
    "- **zeros**, **ones** y **full** para arrays de cualquier dimensión y forma.\n",
    "- **identity**, **eye** y **diagonal** para arrays de 2 dimensiones.    \n",
    "El módulo **random** permite crear arrays con distintas  distribuciones de números al azar.\n",
    "Las funciones loadtxt y genfromtxt permiten leer archivos de  texto tipo csv.\n",
    "Tener en cuenta especiﬁcar el tipo de dato y el shape cuando sea  necesario."
   ]
  },
  {
   "cell_type": "code",
   "execution_count": 15,
   "id": "8dad18c3",
   "metadata": {},
   "outputs": [
    {
     "data": {
      "text/plain": [
       "array([[0, 0, 0],\n",
       "       [0, 0, 0],\n",
       "       [0, 0, 0],\n",
       "       [0, 0, 0]])"
      ]
     },
     "execution_count": 15,
     "metadata": {},
     "output_type": "execute_result"
    }
   ],
   "source": [
    "# zeros\n",
    "# El dtype es float64 por defecto, pero puede ser asignado con cualquier tipo de datos en NumPy.\n",
    "#np.zeros(5)\n",
    "#np.zeros((5), dtype=int)\n",
    "np.zeros((4,3),dtype=int)"
   ]
  },
  {
   "cell_type": "code",
   "execution_count": 6,
   "id": "71eb2f22",
   "metadata": {},
   "outputs": [
    {
     "ename": "NameError",
     "evalue": "name 'np' is not defined",
     "output_type": "error",
     "traceback": [
      "\u001b[1;31m---------------------------------------------------------------------------\u001b[0m",
      "\u001b[1;31mNameError\u001b[0m                                 Traceback (most recent call last)",
      "Cell \u001b[1;32mIn[6], line 3\u001b[0m\n\u001b[0;32m      1\u001b[0m \u001b[38;5;66;03m# Ones\u001b[39;00m\n\u001b[0;32m      2\u001b[0m \u001b[38;5;66;03m# El dtype es float64 por defecto, pero puede ser asignado con cualquier tipo de datos en NumPy.\u001b[39;00m\n\u001b[1;32m----> 3\u001b[0m \u001b[43mnp\u001b[49m\u001b[38;5;241m.\u001b[39mones(\u001b[38;5;241m5\u001b[39m)\n\u001b[0;32m      4\u001b[0m np\u001b[38;5;241m.\u001b[39mones((\u001b[38;5;241m5\u001b[39m), dtype\u001b[38;5;241m=\u001b[39m\u001b[38;5;28mint\u001b[39m)\n\u001b[0;32m      5\u001b[0m np\u001b[38;5;241m.\u001b[39mones((\u001b[38;5;241m4\u001b[39m,\u001b[38;5;241m3\u001b[39m))\n",
      "\u001b[1;31mNameError\u001b[0m: name 'np' is not defined"
     ]
    }
   ],
   "source": [
    "# Ones\n",
    "# El dtype es float64 por defecto, pero puede ser asignado con cualquier tipo de datos en NumPy.\n",
    "np.ones(5)\n",
    "np.ones((5), dtype=int)\n",
    "np.ones((4,3))"
   ]
  },
  {
   "cell_type": "code",
   "execution_count": 18,
   "id": "95aebffb",
   "metadata": {},
   "outputs": [
    {
     "data": {
      "text/plain": [
       "array([ 6,  8, 10, 12, 14, 16, 18])"
      ]
     },
     "execution_count": 18,
     "metadata": {},
     "output_type": "execute_result"
    }
   ],
   "source": [
    "# np.arange\n",
    "np.arange(10)\n",
    "np.arange(6,20,2)"
   ]
  },
  {
   "cell_type": "code",
   "execution_count": 19,
   "id": "f2e36f4e",
   "metadata": {},
   "outputs": [
    {
     "data": {
      "text/plain": [
       "array([[5, 5, 5],\n",
       "       [5, 5, 5],\n",
       "       [5, 5, 5],\n",
       "       [5, 5, 5]])"
      ]
     },
     "execution_count": 19,
     "metadata": {},
     "output_type": "execute_result"
    }
   ],
   "source": [
    "# np.full\n",
    "np.full((4, 3), 5)"
   ]
  },
  {
   "cell_type": "code",
   "execution_count": 20,
   "id": "a6411063",
   "metadata": {},
   "outputs": [
    {
     "data": {
      "text/plain": [
       "array([[4, 4, 2, 4],\n",
       "       [4, 1, 0, 1]])"
      ]
     },
     "execution_count": 20,
     "metadata": {},
     "output_type": "execute_result"
    }
   ],
   "source": [
    "np.random.randint(5, size=(2, 4))"
   ]
  },
  {
   "cell_type": "markdown",
   "id": "f4f229f9",
   "metadata": {},
   "source": [
    "### 1.1.3. Reshaping\n",
    "Ya vimos que el tipo de dato es muy importante  en un array. Ahora nos vamos a centrar en el  atributo shape. Éste determina la forma del  array, lo que implica la dimensión y el paso.\n",
    "Los datos se almacenan en un espacio contiguo  de memoria y el shape determina cómo debe  ser interpretada la forma del array: cuántos  elementos debe contener cada dimensión. Se  especiﬁca como una tupla de números enteros.  Estos números deben ser compatibles con la  cantidad de elementos.\n",
    "Para cambiar la forma del array se usa el método\n",
    "**reshape**.          El método **flatten** transforma  el array en unidimensional."
   ]
  },
  {
   "cell_type": "code",
   "execution_count": 3,
   "id": "1ae1df36",
   "metadata": {},
   "outputs": [
    {
     "ename": "NameError",
     "evalue": "name 'np' is not defined",
     "output_type": "error",
     "traceback": [
      "\u001b[1;31m---------------------------------------------------------------------------\u001b[0m",
      "\u001b[1;31mNameError\u001b[0m                                 Traceback (most recent call last)",
      "Cell \u001b[1;32mIn[3], line 1\u001b[0m\n\u001b[1;32m----> 1\u001b[0m a \u001b[38;5;241m=\u001b[39m \u001b[43mnp\u001b[49m\u001b[38;5;241m.\u001b[39marange(\u001b[38;5;241m6\u001b[39m)\n\u001b[0;32m      2\u001b[0m a \u001b[38;5;241m=\u001b[39m np\u001b[38;5;241m.\u001b[39marange(\u001b[38;5;241m6\u001b[39m)\u001b[38;5;241m.\u001b[39mreshape((\u001b[38;5;241m3\u001b[39m, \u001b[38;5;241m2\u001b[39m))\n\u001b[0;32m      3\u001b[0m a \u001b[38;5;241m=\u001b[39m a\u001b[38;5;241m.\u001b[39mflatten()\n",
      "\u001b[1;31mNameError\u001b[0m: name 'np' is not defined"
     ]
    }
   ],
   "source": [
    "a = np.arange(6)\n",
    "a = np.arange(6).reshape((3, 2))\n",
    "a = a.flatten()\n"
   ]
  },
  {
   "cell_type": "markdown",
   "id": "80bbae88",
   "metadata": {},
   "source": [
    "### 1.1.4. Indexing\n",
    "Se conoce como indexing a cualquier operación  que seleccione elementos de una array a través  de corchetes ([]).\n",
    "Para un array unidimensional la indexación  funciona igual que con las listas. Sin embargo,  para los arrays multidimensionales es posible  especiﬁcar los índices de cada dimensión  dentro de los mismos corchetes.                     \n",
    "Los índices en las matrices NumPy comienzan con 0, lo que significa que el primer elemento tiene el índice 0 y el segundo tiene el índice 1, etc."
   ]
  },
  {
   "cell_type": "code",
   "execution_count": 9,
   "id": "a0ac411a",
   "metadata": {},
   "outputs": [
    {
     "name": "stdout",
     "output_type": "stream",
     "text": [
      "1\n",
      "4\n"
     ]
    }
   ],
   "source": [
    "arr = np.array([1, 2, 3, 4])\n",
    "\n",
    "print(arr[0])\n",
    "print(arr[3])"
   ]
  },
  {
   "cell_type": "markdown",
   "id": "0753a04f",
   "metadata": {},
   "source": [
    "Para acceder a elementos de matrices **2-D**, podemos usar números enteros separados por comas que representan la dimensión y el índice del elemento.\n",
    "Piense en las matrices 2D como una tabla con filas y columnas, donde la fila representa la dimensión y el índice representa la columna."
   ]
  },
  {
   "cell_type": "code",
   "execution_count": 8,
   "id": "1d9e79d5",
   "metadata": {},
   "outputs": [
    {
     "name": "stdout",
     "output_type": "stream",
     "text": [
      "[[ 1  2  3  4  5]\n",
      " [ 6  7  8  9 10]]\n",
      "2do elemento en 1ra fila:  2\n"
     ]
    }
   ],
   "source": [
    "arr = np.array([[1,2,3,4,5], [6,7,8,9,10]])\n",
    "print(arr)\n",
    "print('2do elemento en 1ra fila: ', arr[0, 1])"
   ]
  },
  {
   "cell_type": "code",
   "execution_count": 10,
   "id": "7348530a",
   "metadata": {},
   "outputs": [
    {
     "name": "stdout",
     "output_type": "stream",
     "text": [
      "[[ 1  2  3  4  5]\n",
      " [ 6  7  8  9 10]]\n",
      "5to elemento en 2da fila:  10\n"
     ]
    }
   ],
   "source": [
    "arr = np.array([[1,2,3,4,5], [6,7,8,9,10]])\n",
    "print(arr)\n",
    "print('5to elemento en 2da fila: ', arr[1, 4])"
   ]
  },
  {
   "cell_type": "markdown",
   "id": "3ca8d9a5",
   "metadata": {},
   "source": [
    "Acceda a arreglos 3D\n",
    "Para acceder a elementos de matrices **3-D**, podemos usar números enteros separados por comas que representan las dimensiones y el índice del elemento."
   ]
  },
  {
   "cell_type": "code",
   "execution_count": 11,
   "id": "99d125cf",
   "metadata": {},
   "outputs": [
    {
     "name": "stdout",
     "output_type": "stream",
     "text": [
      "[[[ 1  2  3]\n",
      "  [ 4  5  6]]\n",
      "\n",
      " [[ 7  8  9]\n",
      "  [10 11 12]]]\n"
     ]
    }
   ],
   "source": [
    "arr = np.array([[[1, 2, 3], [4, 5, 6]], [[7, 8, 9], [10, 11, 12]]])\n",
    "\n",
    "print(arr)"
   ]
  },
  {
   "cell_type": "code",
   "execution_count": 12,
   "id": "87509419",
   "metadata": {},
   "outputs": [
    {
     "name": "stdout",
     "output_type": "stream",
     "text": [
      "6\n"
     ]
    }
   ],
   "source": [
    "print(arr[0, 1, 2])"
   ]
  },
  {
   "cell_type": "markdown",
   "id": "d6c2adbc",
   "metadata": {},
   "source": [
    "### Explicacion ejemplo anterior\n",
    "\n",
    "**arr[0, 1, 2] imprime el valor 6.**\n",
    "\n",
    "\n",
    "El primer número representa la primera dimensión, que contiene dos matrices:    \n",
    "[[1, 2, 3], [4, 5, 6]]\n",
    "\n",
    "y:\n",
    "\n",
    "[[7, 8, 9], [10, 11, 12]]\n",
    "\n",
    "Como seleccionamos 0, nos quedamos con la primera matriz:\n",
    "\n",
    "[[1, 2, 3], [4, 5, 6]]\n",
    "\n",
    "El segundo número representa la segunda dimensión, que también contiene dos matrices:    \n",
    "[1, 2, 3]\n",
    "\n",
    "y:\n",
    "\n",
    "[4, 5, 6]\n",
    "\n",
    "Como seleccionamos 1, nos quedamos con la segunda matriz:    \n",
    "[4, 5, 6]\n",
    "\n",
    "El tercer número representa la tercera dimensión, que contiene tres valores:\n",
    "4\n",
    "5\n",
    "6\n",
    "Como seleccionamos 2, terminamos con el tercer valor:\n",
    "6"
   ]
  },
  {
   "cell_type": "markdown",
   "id": "50cf9afc",
   "metadata": {},
   "source": [
    "### 1.1.5. Enmascaramiento\n",
    "Una característica interesante de Numpy es que permite seleccionar  elementos en base a una condición. Esto es posible porque se  puede usar un array de booleanos para seleccionar elementos de  otro array."
   ]
  },
  {
   "cell_type": "code",
   "execution_count": 14,
   "id": "43860b3b",
   "metadata": {},
   "outputs": [
    {
     "name": "stdout",
     "output_type": "stream",
     "text": [
      "[10 20 30 40]\n",
      "[ True False False  True]\n"
     ]
    }
   ],
   "source": [
    "numeros = np.array([10,20,30,40])\n",
    "print(numeros)\n",
    "\n",
    "booleanos = np.array([True, False, False, True])\n",
    "print(booleanos)\n"
   ]
  },
  {
   "cell_type": "code",
   "execution_count": 15,
   "id": "c6bb6394",
   "metadata": {},
   "outputs": [
    {
     "data": {
      "text/plain": [
       "array([False, False, False,  True,  True])"
      ]
     },
     "execution_count": 15,
     "metadata": {},
     "output_type": "execute_result"
    }
   ],
   "source": [
    "arr = np.array([10,20,30, 40, 50])\n",
    "arr > 30"
   ]
  },
  {
   "cell_type": "markdown",
   "id": "c5b9b0af",
   "metadata": {},
   "source": [
    "### 1.1.6. Asignaciones\n",
    "Con la notación de corchetes no sólo es posible elegir elementos de  un array, sino que también se puede reasignar sus valores."
   ]
  },
  {
   "cell_type": "code",
   "execution_count": 16,
   "id": "5d23c5cc",
   "metadata": {},
   "outputs": [],
   "source": [
    "b = np.array([[1, 2, 3, 4], [5, 6, 7, 8]])"
   ]
  },
  {
   "cell_type": "code",
   "execution_count": 17,
   "id": "a2f64d3f",
   "metadata": {},
   "outputs": [
    {
     "name": "stdout",
     "output_type": "stream",
     "text": [
      "[[1 2 0 4]\n",
      " [5 6 0 8]]\n"
     ]
    }
   ],
   "source": [
    "b[:,2] = 0 \n",
    "print(b)"
   ]
  },
  {
   "cell_type": "code",
   "execution_count": 18,
   "id": "8d391cfe",
   "metadata": {},
   "outputs": [
    {
     "name": "stdout",
     "output_type": "stream",
     "text": [
      "[[11 11 11  4]\n",
      " [ 5  6 11  8]]\n"
     ]
    }
   ],
   "source": [
    "b[b<3] = 11\n",
    "print(b)"
   ]
  },
  {
   "cell_type": "code",
   "execution_count": null,
   "id": "7cd73a50",
   "metadata": {},
   "outputs": [],
   "source": []
  }
 ],
 "metadata": {
  "kernelspec": {
   "display_name": "Python 3 (ipykernel)",
   "language": "python",
   "name": "python3"
  },
  "language_info": {
   "codemirror_mode": {
    "name": "ipython",
    "version": 3
   },
   "file_extension": ".py",
   "mimetype": "text/x-python",
   "name": "python",
   "nbconvert_exporter": "python",
   "pygments_lexer": "ipython3",
   "version": "3.10.9"
  }
 },
 "nbformat": 4,
 "nbformat_minor": 5
}
